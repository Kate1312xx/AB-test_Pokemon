{
  "nbformat": 4,
  "nbformat_minor": 0,
  "metadata": {
    "colab": {
      "provenance": []
    },
    "kernelspec": {
      "name": "python3",
      "display_name": "Python 3"
    },
    "language_info": {
      "name": "python"
    }
  },
  "cells": [
    {
      "cell_type": "code",
      "execution_count": null,
      "metadata": {
        "id": "4kgeDD65UlmX"
      },
      "outputs": [],
      "source": [
        " # Подгрузим пакеты\n",
        "import pandas as pd\n",
        "import numpy as np\n",
        "import matplotlib\n",
        "import matplotlib.pyplot as plt\n",
        "from scipy import stats\n",
        "import scipy.stats as st\n",
        "matplotlib.style.use('ggplot')\n",
        "%matplotlib inline\n",
        "import seaborn as sns"
      ]
    },
    {
      "cell_type": "markdown",
      "source": [
        "# Покемоны и AB-тестирование\n",
        "(реальный кейс собеседования на позицию Аналитика).\n",
        "\n",
        "\n",
        "# Описание задачи\n",
        "\n",
        "![banner](https://storage.googleapis.com/kaggle-datasets-images/635/1204/126be74882028aac7241553cef0e27a7/dataset-original.jpg)\n",
        "\n",
        "Покемоны - это маленькие существа, которые сражаются друг с другом на соревнованиях. Все покемоны имеют разные характеристики (сила атаки, защиты и т. д.) И относятся к одному или двум так называемым классам (вода, огонь и т. д.).\n",
        "Профессор Оук является изобретателем Pokedex, портативного устройства, которое хранит информацию обо всех существующих покемонах. Как его ведущий специалист по данным, Вы только что получили от него запрос с просьбой осуществить аналитику данных на всех устройствах Pokedex.\n",
        "\n",
        "## Описание набора данных\n",
        "Профессор Оук скопировал все содержимое память одного устройства Pokedex, в результате чего получился набор данных, с которым Вы будете работать в этой задаче. В этом файле каждая строка представляет характеристики одного покемона:\n",
        "\n",
        "* `pid`: Numeric - ID покемона\n",
        "* `HP`: Numeric - Очки здоровья\n",
        "* `Attack`: Numeric - Сила обычной атаки\n",
        "* `Defense`: Numeric - Сила обычной защиты\n",
        "* `Sp. Atk`: Numeric - Сила специальной атаки\n",
        "* `Sp. Def`: Numeric - Сила специальной защиты\n",
        "* `Speed`: Numeric - Скорость движений\n",
        "* `Legendary`: Boolean - «True», если покемон редкий\n",
        "* `Class 1`: Categorical - Класс покемона\n",
        "* `Class 2`: Categorical - Класс покемона"
      ],
      "metadata": {
        "id": "4cMwa_4BXKzQ"
      }
    },
    {
      "cell_type": "code",
      "source": [
        "pokemon = pd.read_csv('pokemon.csv', error_bad_lines=False)  # Откроем датасет\n",
        "pokemon\n",
        "\n",
        "\n",
        "# Обратите внимание, что у покемона может быть один или два класса.\n",
        "# Если у покемона два класса, считается, что они имеют одинаковую значимость."
      ],
      "metadata": {
        "colab": {
          "base_uri": "https://localhost:8080/",
          "height": 516
        },
        "id": "23VJXI5NYAS4",
        "outputId": "57f93ef2-f14c-492f-d779-716fd7dd30ae"
      },
      "execution_count": null,
      "outputs": [
        {
          "output_type": "stream",
          "name": "stderr",
          "text": [
            "/usr/local/lib/python3.8/dist-packages/IPython/core/interactiveshell.py:3326: FutureWarning: The error_bad_lines argument has been deprecated and will be removed in a future version.\n",
            "\n",
            "\n",
            "  exec(code_obj, self.user_global_ns, self.user_ns)\n"
          ]
        },
        {
          "output_type": "execute_result",
          "data": {
            "text/plain": [
              "     pid            Name  Class 1 Class 2  HP  Attack  Defense  Sp. Atk  \\\n",
              "0      1       Bulbasaur    Grass  Poison  45      49       49       65   \n",
              "1      2         Ivysaur    Grass  Poison  60      62       63       80   \n",
              "2      3        Venusaur    Grass  Poison  80      82       83      100   \n",
              "3      4   Mega Venusaur    Grass  Poison  80     100      123      122   \n",
              "4      5      Charmander     Fire     NaN  39      52       43       60   \n",
              "..   ...             ...      ...     ...  ..     ...      ...      ...   \n",
              "795  796         Diancie     Rock   Fairy  50     100      150      100   \n",
              "796  797    Mega Diancie     Rock   Fairy  50     160      110      160   \n",
              "797  798  Hoopa Confined  Psychic   Ghost  80     110       60      150   \n",
              "798  799   Hoopa Unbound  Psychic    Dark  80     160       60      170   \n",
              "799  800       Volcanion     Fire   Water  80     110      120      130   \n",
              "\n",
              "     Sp. Def  Speed  Legendary  \n",
              "0         65     45      False  \n",
              "1         80     60      False  \n",
              "2        100     80      False  \n",
              "3        120     80      False  \n",
              "4         50     65      False  \n",
              "..       ...    ...        ...  \n",
              "795      150     50       True  \n",
              "796      110    110       True  \n",
              "797      130     70       True  \n",
              "798      130     80       True  \n",
              "799       90     70       True  \n",
              "\n",
              "[800 rows x 11 columns]"
            ],
            "text/html": [
              "\n",
              "  <div id=\"df-128ede3c-ecd9-4531-afb5-21df5d8b97ff\">\n",
              "    <div class=\"colab-df-container\">\n",
              "      <div>\n",
              "<style scoped>\n",
              "    .dataframe tbody tr th:only-of-type {\n",
              "        vertical-align: middle;\n",
              "    }\n",
              "\n",
              "    .dataframe tbody tr th {\n",
              "        vertical-align: top;\n",
              "    }\n",
              "\n",
              "    .dataframe thead th {\n",
              "        text-align: right;\n",
              "    }\n",
              "</style>\n",
              "<table border=\"1\" class=\"dataframe\">\n",
              "  <thead>\n",
              "    <tr style=\"text-align: right;\">\n",
              "      <th></th>\n",
              "      <th>pid</th>\n",
              "      <th>Name</th>\n",
              "      <th>Class 1</th>\n",
              "      <th>Class 2</th>\n",
              "      <th>HP</th>\n",
              "      <th>Attack</th>\n",
              "      <th>Defense</th>\n",
              "      <th>Sp. Atk</th>\n",
              "      <th>Sp. Def</th>\n",
              "      <th>Speed</th>\n",
              "      <th>Legendary</th>\n",
              "    </tr>\n",
              "  </thead>\n",
              "  <tbody>\n",
              "    <tr>\n",
              "      <th>0</th>\n",
              "      <td>1</td>\n",
              "      <td>Bulbasaur</td>\n",
              "      <td>Grass</td>\n",
              "      <td>Poison</td>\n",
              "      <td>45</td>\n",
              "      <td>49</td>\n",
              "      <td>49</td>\n",
              "      <td>65</td>\n",
              "      <td>65</td>\n",
              "      <td>45</td>\n",
              "      <td>False</td>\n",
              "    </tr>\n",
              "    <tr>\n",
              "      <th>1</th>\n",
              "      <td>2</td>\n",
              "      <td>Ivysaur</td>\n",
              "      <td>Grass</td>\n",
              "      <td>Poison</td>\n",
              "      <td>60</td>\n",
              "      <td>62</td>\n",
              "      <td>63</td>\n",
              "      <td>80</td>\n",
              "      <td>80</td>\n",
              "      <td>60</td>\n",
              "      <td>False</td>\n",
              "    </tr>\n",
              "    <tr>\n",
              "      <th>2</th>\n",
              "      <td>3</td>\n",
              "      <td>Venusaur</td>\n",
              "      <td>Grass</td>\n",
              "      <td>Poison</td>\n",
              "      <td>80</td>\n",
              "      <td>82</td>\n",
              "      <td>83</td>\n",
              "      <td>100</td>\n",
              "      <td>100</td>\n",
              "      <td>80</td>\n",
              "      <td>False</td>\n",
              "    </tr>\n",
              "    <tr>\n",
              "      <th>3</th>\n",
              "      <td>4</td>\n",
              "      <td>Mega Venusaur</td>\n",
              "      <td>Grass</td>\n",
              "      <td>Poison</td>\n",
              "      <td>80</td>\n",
              "      <td>100</td>\n",
              "      <td>123</td>\n",
              "      <td>122</td>\n",
              "      <td>120</td>\n",
              "      <td>80</td>\n",
              "      <td>False</td>\n",
              "    </tr>\n",
              "    <tr>\n",
              "      <th>4</th>\n",
              "      <td>5</td>\n",
              "      <td>Charmander</td>\n",
              "      <td>Fire</td>\n",
              "      <td>NaN</td>\n",
              "      <td>39</td>\n",
              "      <td>52</td>\n",
              "      <td>43</td>\n",
              "      <td>60</td>\n",
              "      <td>50</td>\n",
              "      <td>65</td>\n",
              "      <td>False</td>\n",
              "    </tr>\n",
              "    <tr>\n",
              "      <th>...</th>\n",
              "      <td>...</td>\n",
              "      <td>...</td>\n",
              "      <td>...</td>\n",
              "      <td>...</td>\n",
              "      <td>...</td>\n",
              "      <td>...</td>\n",
              "      <td>...</td>\n",
              "      <td>...</td>\n",
              "      <td>...</td>\n",
              "      <td>...</td>\n",
              "      <td>...</td>\n",
              "    </tr>\n",
              "    <tr>\n",
              "      <th>795</th>\n",
              "      <td>796</td>\n",
              "      <td>Diancie</td>\n",
              "      <td>Rock</td>\n",
              "      <td>Fairy</td>\n",
              "      <td>50</td>\n",
              "      <td>100</td>\n",
              "      <td>150</td>\n",
              "      <td>100</td>\n",
              "      <td>150</td>\n",
              "      <td>50</td>\n",
              "      <td>True</td>\n",
              "    </tr>\n",
              "    <tr>\n",
              "      <th>796</th>\n",
              "      <td>797</td>\n",
              "      <td>Mega Diancie</td>\n",
              "      <td>Rock</td>\n",
              "      <td>Fairy</td>\n",
              "      <td>50</td>\n",
              "      <td>160</td>\n",
              "      <td>110</td>\n",
              "      <td>160</td>\n",
              "      <td>110</td>\n",
              "      <td>110</td>\n",
              "      <td>True</td>\n",
              "    </tr>\n",
              "    <tr>\n",
              "      <th>797</th>\n",
              "      <td>798</td>\n",
              "      <td>Hoopa Confined</td>\n",
              "      <td>Psychic</td>\n",
              "      <td>Ghost</td>\n",
              "      <td>80</td>\n",
              "      <td>110</td>\n",
              "      <td>60</td>\n",
              "      <td>150</td>\n",
              "      <td>130</td>\n",
              "      <td>70</td>\n",
              "      <td>True</td>\n",
              "    </tr>\n",
              "    <tr>\n",
              "      <th>798</th>\n",
              "      <td>799</td>\n",
              "      <td>Hoopa Unbound</td>\n",
              "      <td>Psychic</td>\n",
              "      <td>Dark</td>\n",
              "      <td>80</td>\n",
              "      <td>160</td>\n",
              "      <td>60</td>\n",
              "      <td>170</td>\n",
              "      <td>130</td>\n",
              "      <td>80</td>\n",
              "      <td>True</td>\n",
              "    </tr>\n",
              "    <tr>\n",
              "      <th>799</th>\n",
              "      <td>800</td>\n",
              "      <td>Volcanion</td>\n",
              "      <td>Fire</td>\n",
              "      <td>Water</td>\n",
              "      <td>80</td>\n",
              "      <td>110</td>\n",
              "      <td>120</td>\n",
              "      <td>130</td>\n",
              "      <td>90</td>\n",
              "      <td>70</td>\n",
              "      <td>True</td>\n",
              "    </tr>\n",
              "  </tbody>\n",
              "</table>\n",
              "<p>800 rows × 11 columns</p>\n",
              "</div>\n",
              "      <button class=\"colab-df-convert\" onclick=\"convertToInteractive('df-128ede3c-ecd9-4531-afb5-21df5d8b97ff')\"\n",
              "              title=\"Convert this dataframe to an interactive table.\"\n",
              "              style=\"display:none;\">\n",
              "        \n",
              "  <svg xmlns=\"http://www.w3.org/2000/svg\" height=\"24px\"viewBox=\"0 0 24 24\"\n",
              "       width=\"24px\">\n",
              "    <path d=\"M0 0h24v24H0V0z\" fill=\"none\"/>\n",
              "    <path d=\"M18.56 5.44l.94 2.06.94-2.06 2.06-.94-2.06-.94-.94-2.06-.94 2.06-2.06.94zm-11 1L8.5 8.5l.94-2.06 2.06-.94-2.06-.94L8.5 2.5l-.94 2.06-2.06.94zm10 10l.94 2.06.94-2.06 2.06-.94-2.06-.94-.94-2.06-.94 2.06-2.06.94z\"/><path d=\"M17.41 7.96l-1.37-1.37c-.4-.4-.92-.59-1.43-.59-.52 0-1.04.2-1.43.59L10.3 9.45l-7.72 7.72c-.78.78-.78 2.05 0 2.83L4 21.41c.39.39.9.59 1.41.59.51 0 1.02-.2 1.41-.59l7.78-7.78 2.81-2.81c.8-.78.8-2.07 0-2.86zM5.41 20L4 18.59l7.72-7.72 1.47 1.35L5.41 20z\"/>\n",
              "  </svg>\n",
              "      </button>\n",
              "      \n",
              "  <style>\n",
              "    .colab-df-container {\n",
              "      display:flex;\n",
              "      flex-wrap:wrap;\n",
              "      gap: 12px;\n",
              "    }\n",
              "\n",
              "    .colab-df-convert {\n",
              "      background-color: #E8F0FE;\n",
              "      border: none;\n",
              "      border-radius: 50%;\n",
              "      cursor: pointer;\n",
              "      display: none;\n",
              "      fill: #1967D2;\n",
              "      height: 32px;\n",
              "      padding: 0 0 0 0;\n",
              "      width: 32px;\n",
              "    }\n",
              "\n",
              "    .colab-df-convert:hover {\n",
              "      background-color: #E2EBFA;\n",
              "      box-shadow: 0px 1px 2px rgba(60, 64, 67, 0.3), 0px 1px 3px 1px rgba(60, 64, 67, 0.15);\n",
              "      fill: #174EA6;\n",
              "    }\n",
              "\n",
              "    [theme=dark] .colab-df-convert {\n",
              "      background-color: #3B4455;\n",
              "      fill: #D2E3FC;\n",
              "    }\n",
              "\n",
              "    [theme=dark] .colab-df-convert:hover {\n",
              "      background-color: #434B5C;\n",
              "      box-shadow: 0px 1px 3px 1px rgba(0, 0, 0, 0.15);\n",
              "      filter: drop-shadow(0px 1px 2px rgba(0, 0, 0, 0.3));\n",
              "      fill: #FFFFFF;\n",
              "    }\n",
              "  </style>\n",
              "\n",
              "      <script>\n",
              "        const buttonEl =\n",
              "          document.querySelector('#df-128ede3c-ecd9-4531-afb5-21df5d8b97ff button.colab-df-convert');\n",
              "        buttonEl.style.display =\n",
              "          google.colab.kernel.accessAllowed ? 'block' : 'none';\n",
              "\n",
              "        async function convertToInteractive(key) {\n",
              "          const element = document.querySelector('#df-128ede3c-ecd9-4531-afb5-21df5d8b97ff');\n",
              "          const dataTable =\n",
              "            await google.colab.kernel.invokeFunction('convertToInteractive',\n",
              "                                                     [key], {});\n",
              "          if (!dataTable) return;\n",
              "\n",
              "          const docLinkHtml = 'Like what you see? Visit the ' +\n",
              "            '<a target=\"_blank\" href=https://colab.research.google.com/notebooks/data_table.ipynb>data table notebook</a>'\n",
              "            + ' to learn more about interactive tables.';\n",
              "          element.innerHTML = '';\n",
              "          dataTable['output_type'] = 'display_data';\n",
              "          await google.colab.output.renderOutput(dataTable, element);\n",
              "          const docLink = document.createElement('div');\n",
              "          docLink.innerHTML = docLinkHtml;\n",
              "          element.appendChild(docLink);\n",
              "        }\n",
              "      </script>\n",
              "    </div>\n",
              "  </div>\n",
              "  "
            ]
          },
          "metadata": {},
          "execution_count": 78
        }
      ]
    },
    {
      "cell_type": "markdown",
      "source": [
        "# Задачи"
      ],
      "metadata": {
        "id": "hvYLTJI2XL8P"
      }
    },
    {
      "cell_type": "markdown",
      "source": [
        "<div class=\"alert alert-info\">\n",
        "<b>Задание № 1:</b>\n",
        "    \n",
        "Профессор Оук подозревает, что покемоны в классе `grass` имеют более сильную обычную атаку, чем у покемонов в классе `rock`. Проверьте, прав ли он, и убедите его в своем выводе статистически.\n",
        "    \n",
        "    \n",
        "Примечание: если есть покемоны, которые относятся к обоим классам, просто выбросьте их;\n",
        "    \n",
        "Вы можете предположить, что распределение обычных атак является нормальным для всех классов покемонов.\n",
        "\n",
        "</div>\n"
      ],
      "metadata": {
        "id": "jC-_ibgEXu3R"
      }
    },
    {
      "cell_type": "code",
      "source": [
        "# исключаем строки, покемоны которых относятся к обоим классам\n",
        "\n",
        "pok = pokemon[~(((pokemon['Class 1']=='Rock') & (pokemon['Class 2']=='Grass')) |\n",
        "              ((pokemon['Class 1']=='Grass') & (pokemon['Class 2']=='Rock')))]\n",
        "pok"
      ],
      "metadata": {
        "colab": {
          "base_uri": "https://localhost:8080/",
          "height": 423
        },
        "id": "kyvffVc5gd-b",
        "outputId": "97f73c8a-a2dd-4f82-d19e-f0c94afd4188"
      },
      "execution_count": null,
      "outputs": [
        {
          "output_type": "execute_result",
          "data": {
            "text/plain": [
              "     pid            Name  Class 1 Class 2  HP  Attack  Defense  Sp. Atk  \\\n",
              "0      1       Bulbasaur    Grass  Poison  45      49       49       65   \n",
              "1      2         Ivysaur    Grass  Poison  60      62       63       80   \n",
              "2      3        Venusaur    Grass  Poison  80      82       83      100   \n",
              "3      4   Mega Venusaur    Grass  Poison  80     100      123      122   \n",
              "4      5      Charmander     Fire     NaN  39      52       43       60   \n",
              "..   ...             ...      ...     ...  ..     ...      ...      ...   \n",
              "795  796         Diancie     Rock   Fairy  50     100      150      100   \n",
              "796  797    Mega Diancie     Rock   Fairy  50     160      110      160   \n",
              "797  798  Hoopa Confined  Psychic   Ghost  80     110       60      150   \n",
              "798  799   Hoopa Unbound  Psychic    Dark  80     160       60      170   \n",
              "799  800       Volcanion     Fire   Water  80     110      120      130   \n",
              "\n",
              "     Sp. Def  Speed  Legendary  \n",
              "0         65     45      False  \n",
              "1         80     60      False  \n",
              "2        100     80      False  \n",
              "3        120     80      False  \n",
              "4         50     65      False  \n",
              "..       ...    ...        ...  \n",
              "795      150     50       True  \n",
              "796      110    110       True  \n",
              "797      130     70       True  \n",
              "798      130     80       True  \n",
              "799       90     70       True  \n",
              "\n",
              "[798 rows x 11 columns]"
            ],
            "text/html": [
              "\n",
              "  <div id=\"df-ecb615c6-bc95-46bf-910f-53ce44b5a293\">\n",
              "    <div class=\"colab-df-container\">\n",
              "      <div>\n",
              "<style scoped>\n",
              "    .dataframe tbody tr th:only-of-type {\n",
              "        vertical-align: middle;\n",
              "    }\n",
              "\n",
              "    .dataframe tbody tr th {\n",
              "        vertical-align: top;\n",
              "    }\n",
              "\n",
              "    .dataframe thead th {\n",
              "        text-align: right;\n",
              "    }\n",
              "</style>\n",
              "<table border=\"1\" class=\"dataframe\">\n",
              "  <thead>\n",
              "    <tr style=\"text-align: right;\">\n",
              "      <th></th>\n",
              "      <th>pid</th>\n",
              "      <th>Name</th>\n",
              "      <th>Class 1</th>\n",
              "      <th>Class 2</th>\n",
              "      <th>HP</th>\n",
              "      <th>Attack</th>\n",
              "      <th>Defense</th>\n",
              "      <th>Sp. Atk</th>\n",
              "      <th>Sp. Def</th>\n",
              "      <th>Speed</th>\n",
              "      <th>Legendary</th>\n",
              "    </tr>\n",
              "  </thead>\n",
              "  <tbody>\n",
              "    <tr>\n",
              "      <th>0</th>\n",
              "      <td>1</td>\n",
              "      <td>Bulbasaur</td>\n",
              "      <td>Grass</td>\n",
              "      <td>Poison</td>\n",
              "      <td>45</td>\n",
              "      <td>49</td>\n",
              "      <td>49</td>\n",
              "      <td>65</td>\n",
              "      <td>65</td>\n",
              "      <td>45</td>\n",
              "      <td>False</td>\n",
              "    </tr>\n",
              "    <tr>\n",
              "      <th>1</th>\n",
              "      <td>2</td>\n",
              "      <td>Ivysaur</td>\n",
              "      <td>Grass</td>\n",
              "      <td>Poison</td>\n",
              "      <td>60</td>\n",
              "      <td>62</td>\n",
              "      <td>63</td>\n",
              "      <td>80</td>\n",
              "      <td>80</td>\n",
              "      <td>60</td>\n",
              "      <td>False</td>\n",
              "    </tr>\n",
              "    <tr>\n",
              "      <th>2</th>\n",
              "      <td>3</td>\n",
              "      <td>Venusaur</td>\n",
              "      <td>Grass</td>\n",
              "      <td>Poison</td>\n",
              "      <td>80</td>\n",
              "      <td>82</td>\n",
              "      <td>83</td>\n",
              "      <td>100</td>\n",
              "      <td>100</td>\n",
              "      <td>80</td>\n",
              "      <td>False</td>\n",
              "    </tr>\n",
              "    <tr>\n",
              "      <th>3</th>\n",
              "      <td>4</td>\n",
              "      <td>Mega Venusaur</td>\n",
              "      <td>Grass</td>\n",
              "      <td>Poison</td>\n",
              "      <td>80</td>\n",
              "      <td>100</td>\n",
              "      <td>123</td>\n",
              "      <td>122</td>\n",
              "      <td>120</td>\n",
              "      <td>80</td>\n",
              "      <td>False</td>\n",
              "    </tr>\n",
              "    <tr>\n",
              "      <th>4</th>\n",
              "      <td>5</td>\n",
              "      <td>Charmander</td>\n",
              "      <td>Fire</td>\n",
              "      <td>NaN</td>\n",
              "      <td>39</td>\n",
              "      <td>52</td>\n",
              "      <td>43</td>\n",
              "      <td>60</td>\n",
              "      <td>50</td>\n",
              "      <td>65</td>\n",
              "      <td>False</td>\n",
              "    </tr>\n",
              "    <tr>\n",
              "      <th>...</th>\n",
              "      <td>...</td>\n",
              "      <td>...</td>\n",
              "      <td>...</td>\n",
              "      <td>...</td>\n",
              "      <td>...</td>\n",
              "      <td>...</td>\n",
              "      <td>...</td>\n",
              "      <td>...</td>\n",
              "      <td>...</td>\n",
              "      <td>...</td>\n",
              "      <td>...</td>\n",
              "    </tr>\n",
              "    <tr>\n",
              "      <th>795</th>\n",
              "      <td>796</td>\n",
              "      <td>Diancie</td>\n",
              "      <td>Rock</td>\n",
              "      <td>Fairy</td>\n",
              "      <td>50</td>\n",
              "      <td>100</td>\n",
              "      <td>150</td>\n",
              "      <td>100</td>\n",
              "      <td>150</td>\n",
              "      <td>50</td>\n",
              "      <td>True</td>\n",
              "    </tr>\n",
              "    <tr>\n",
              "      <th>796</th>\n",
              "      <td>797</td>\n",
              "      <td>Mega Diancie</td>\n",
              "      <td>Rock</td>\n",
              "      <td>Fairy</td>\n",
              "      <td>50</td>\n",
              "      <td>160</td>\n",
              "      <td>110</td>\n",
              "      <td>160</td>\n",
              "      <td>110</td>\n",
              "      <td>110</td>\n",
              "      <td>True</td>\n",
              "    </tr>\n",
              "    <tr>\n",
              "      <th>797</th>\n",
              "      <td>798</td>\n",
              "      <td>Hoopa Confined</td>\n",
              "      <td>Psychic</td>\n",
              "      <td>Ghost</td>\n",
              "      <td>80</td>\n",
              "      <td>110</td>\n",
              "      <td>60</td>\n",
              "      <td>150</td>\n",
              "      <td>130</td>\n",
              "      <td>70</td>\n",
              "      <td>True</td>\n",
              "    </tr>\n",
              "    <tr>\n",
              "      <th>798</th>\n",
              "      <td>799</td>\n",
              "      <td>Hoopa Unbound</td>\n",
              "      <td>Psychic</td>\n",
              "      <td>Dark</td>\n",
              "      <td>80</td>\n",
              "      <td>160</td>\n",
              "      <td>60</td>\n",
              "      <td>170</td>\n",
              "      <td>130</td>\n",
              "      <td>80</td>\n",
              "      <td>True</td>\n",
              "    </tr>\n",
              "    <tr>\n",
              "      <th>799</th>\n",
              "      <td>800</td>\n",
              "      <td>Volcanion</td>\n",
              "      <td>Fire</td>\n",
              "      <td>Water</td>\n",
              "      <td>80</td>\n",
              "      <td>110</td>\n",
              "      <td>120</td>\n",
              "      <td>130</td>\n",
              "      <td>90</td>\n",
              "      <td>70</td>\n",
              "      <td>True</td>\n",
              "    </tr>\n",
              "  </tbody>\n",
              "</table>\n",
              "<p>798 rows × 11 columns</p>\n",
              "</div>\n",
              "      <button class=\"colab-df-convert\" onclick=\"convertToInteractive('df-ecb615c6-bc95-46bf-910f-53ce44b5a293')\"\n",
              "              title=\"Convert this dataframe to an interactive table.\"\n",
              "              style=\"display:none;\">\n",
              "        \n",
              "  <svg xmlns=\"http://www.w3.org/2000/svg\" height=\"24px\"viewBox=\"0 0 24 24\"\n",
              "       width=\"24px\">\n",
              "    <path d=\"M0 0h24v24H0V0z\" fill=\"none\"/>\n",
              "    <path d=\"M18.56 5.44l.94 2.06.94-2.06 2.06-.94-2.06-.94-.94-2.06-.94 2.06-2.06.94zm-11 1L8.5 8.5l.94-2.06 2.06-.94-2.06-.94L8.5 2.5l-.94 2.06-2.06.94zm10 10l.94 2.06.94-2.06 2.06-.94-2.06-.94-.94-2.06-.94 2.06-2.06.94z\"/><path d=\"M17.41 7.96l-1.37-1.37c-.4-.4-.92-.59-1.43-.59-.52 0-1.04.2-1.43.59L10.3 9.45l-7.72 7.72c-.78.78-.78 2.05 0 2.83L4 21.41c.39.39.9.59 1.41.59.51 0 1.02-.2 1.41-.59l7.78-7.78 2.81-2.81c.8-.78.8-2.07 0-2.86zM5.41 20L4 18.59l7.72-7.72 1.47 1.35L5.41 20z\"/>\n",
              "  </svg>\n",
              "      </button>\n",
              "      \n",
              "  <style>\n",
              "    .colab-df-container {\n",
              "      display:flex;\n",
              "      flex-wrap:wrap;\n",
              "      gap: 12px;\n",
              "    }\n",
              "\n",
              "    .colab-df-convert {\n",
              "      background-color: #E8F0FE;\n",
              "      border: none;\n",
              "      border-radius: 50%;\n",
              "      cursor: pointer;\n",
              "      display: none;\n",
              "      fill: #1967D2;\n",
              "      height: 32px;\n",
              "      padding: 0 0 0 0;\n",
              "      width: 32px;\n",
              "    }\n",
              "\n",
              "    .colab-df-convert:hover {\n",
              "      background-color: #E2EBFA;\n",
              "      box-shadow: 0px 1px 2px rgba(60, 64, 67, 0.3), 0px 1px 3px 1px rgba(60, 64, 67, 0.15);\n",
              "      fill: #174EA6;\n",
              "    }\n",
              "\n",
              "    [theme=dark] .colab-df-convert {\n",
              "      background-color: #3B4455;\n",
              "      fill: #D2E3FC;\n",
              "    }\n",
              "\n",
              "    [theme=dark] .colab-df-convert:hover {\n",
              "      background-color: #434B5C;\n",
              "      box-shadow: 0px 1px 3px 1px rgba(0, 0, 0, 0.15);\n",
              "      filter: drop-shadow(0px 1px 2px rgba(0, 0, 0, 0.3));\n",
              "      fill: #FFFFFF;\n",
              "    }\n",
              "  </style>\n",
              "\n",
              "      <script>\n",
              "        const buttonEl =\n",
              "          document.querySelector('#df-ecb615c6-bc95-46bf-910f-53ce44b5a293 button.colab-df-convert');\n",
              "        buttonEl.style.display =\n",
              "          google.colab.kernel.accessAllowed ? 'block' : 'none';\n",
              "\n",
              "        async function convertToInteractive(key) {\n",
              "          const element = document.querySelector('#df-ecb615c6-bc95-46bf-910f-53ce44b5a293');\n",
              "          const dataTable =\n",
              "            await google.colab.kernel.invokeFunction('convertToInteractive',\n",
              "                                                     [key], {});\n",
              "          if (!dataTable) return;\n",
              "\n",
              "          const docLinkHtml = 'Like what you see? Visit the ' +\n",
              "            '<a target=\"_blank\" href=https://colab.research.google.com/notebooks/data_table.ipynb>data table notebook</a>'\n",
              "            + ' to learn more about interactive tables.';\n",
              "          element.innerHTML = '';\n",
              "          dataTable['output_type'] = 'display_data';\n",
              "          await google.colab.output.renderOutput(dataTable, element);\n",
              "          const docLink = document.createElement('div');\n",
              "          docLink.innerHTML = docLinkHtml;\n",
              "          element.appendChild(docLink);\n",
              "        }\n",
              "      </script>\n",
              "    </div>\n",
              "  </div>\n",
              "  "
            ]
          },
          "metadata": {},
          "execution_count": 79
        }
      ]
    },
    {
      "cell_type": "code",
      "source": [
        "# отдельные датафреймы для покемонов Rock и Grass\n",
        "\n",
        "\n",
        "pok_rock = pok[(pok['Class 1']== 'Rock') | (pok['Class 2']== 'Rock')]   # только покемоны класса 1 и 2 Rock\n",
        "print(len(pok_rock))\n",
        "pok_grass = pok[(pok['Class 1']== 'Grass') | (pok['Class 2']== 'Grass')] # # только покемоны класса 1 и 2 Grass\n",
        "print(len(pok_grass))"
      ],
      "metadata": {
        "colab": {
          "base_uri": "https://localhost:8080/"
        },
        "id": "R4pudHjvlrh2",
        "outputId": "6423877f-2fc1-4811-e2b4-4590b62c0f4a"
      },
      "execution_count": null,
      "outputs": [
        {
          "output_type": "stream",
          "name": "stdout",
          "text": [
            "56\n",
            "93\n"
          ]
        }
      ]
    },
    {
      "cell_type": "code",
      "source": [
        "print(f\"Среднее значение обычной атаки в классе Rock: {pok_rock['Attack'].mean(): .2f}\")\n",
        "print(f\"Среднее значение обычной атаки в классе Grass: {pok_grass['Attack'].mean(): .2f}\")"
      ],
      "metadata": {
        "colab": {
          "base_uri": "https://localhost:8080/"
        },
        "id": "y1lZLaEeD2PK",
        "outputId": "7e61e846-e126-4620-beeb-fe2f496ec17f"
      },
      "execution_count": null,
      "outputs": [
        {
          "output_type": "stream",
          "name": "stdout",
          "text": [
            "Среднее значение обычной атаки в классе Rock:  91.79\n",
            "Среднее значение обычной атаки в классе Grass:  73.73\n"
          ]
        }
      ]
    },
    {
      "cell_type": "code",
      "source": [
        "plt.boxplot([pok_rock['Attack'],pok_grass['Attack']]);"
      ],
      "metadata": {
        "colab": {
          "base_uri": "https://localhost:8080/",
          "height": 321
        },
        "id": "WP7lMuzf3-rg",
        "outputId": "47623be1-f4a3-4652-96a8-12cf68534ecb"
      },
      "execution_count": null,
      "outputs": [
        {
          "output_type": "stream",
          "name": "stderr",
          "text": [
            "/usr/local/lib/python3.8/dist-packages/matplotlib/cbook/__init__.py:1376: VisibleDeprecationWarning: Creating an ndarray from ragged nested sequences (which is a list-or-tuple of lists-or-tuples-or ndarrays with different lengths or shapes) is deprecated. If you meant to do this, you must specify 'dtype=object' when creating the ndarray.\n",
            "  X = np.atleast_1d(X.T if isinstance(X, np.ndarray) else np.asarray(X))\n"
          ]
        },
        {
          "output_type": "display_data",
          "data": {
            "text/plain": [
              "<Figure size 432x288 with 1 Axes>"
            ],
            "image/png": "[encoded data removed]"
          },
          "metadata": {
            "needs_background": "light"
          }
        }
      ]
    },
    {
      "cell_type": "markdown",
      "source": [
        "*Средние значения показывают, что более высокая обычная атака у класса Rock.*\n",
        "*Это отличается от предположений профессора Оук.*"
      ],
      "metadata": {
        "id": "a97G4byEFZvj"
      }
    },
    {
      "cell_type": "code",
      "source": [
        "# проверим данные на различие дисперсий\n",
        "\n",
        "stat, p = st.levene(pok_rock['Attack'], pok_grass['Attack'])\n",
        "print(f\"Статистика = {stat:.5f}, p = {p:.7f}\")\n",
        "\n",
        "if p <0.05:\n",
        "  print(\"Отклоняем нулевую гипотезу >> Дисперсии в группах раличаются\")\n",
        "else:\n",
        "  print(\"Не отклоняем нулевую гипотезу >> Дисперсии в группах одинаковые\")"
      ],
      "metadata": {
        "colab": {
          "base_uri": "https://localhost:8080/"
        },
        "id": "XnigL_ZY2NQ3",
        "outputId": "443962cb-582c-408d-d552-3fc4cd54b4a8"
      },
      "execution_count": null,
      "outputs": [
        {
          "output_type": "stream",
          "name": "stdout",
          "text": [
            "Статистика = 8.93747, p = 0.0032760\n",
            "Отклоняем нулевую гипотезу >> Дисперсии в группах раличаются\n"
          ]
        }
      ]
    },
    {
      "cell_type": "code",
      "source": [
        "# тест Стьюдента с поправкой на различие дисперсий\n",
        "# Н0 - средние занчения статистически не отличаются, обычная атака одинакова для классов Rock и Grass\n",
        "# Н1 - средние значения различаются, обычная атака у одного класса сильнее другого класса\n",
        "\n",
        "stat, p = st.ttest_ind(pok_rock['Attack'], pok_grass['Attack'], equal_var = False)\n",
        "print('Статистика=%.3f, p=%.10f' % (stat, p))\n",
        "\n",
        "if p > 0.05:\n",
        "    print('Не отклоняем нулевую гипотезу, средние, вероятно, одинаковые')\n",
        "else:\n",
        "    print('Отклоняем нулевую гипотезу, средние, вероятно, различаются')"
      ],
      "metadata": {
        "colab": {
          "base_uri": "https://localhost:8080/"
        },
        "id": "d2FIQT8JzvqA",
        "outputId": "8ee4f06e-2e2a-4fab-c98d-bd0b03087570"
      },
      "execution_count": null,
      "outputs": [
        {
          "output_type": "stream",
          "name": "stdout",
          "text": [
            "Статистика=3.417, p=0.0009640547\n",
            "Отклоняем нулевую гипотезу, средние, вероятно, различаются\n"
          ]
        }
      ]
    },
    {
      "cell_type": "markdown",
      "source": [
        "**Вывод.**\n",
        "\n",
        "Тест Стьюдента отклоняет нулевую гипотезу об одинаковых средних, то есть с вероятностью 95 % сила обычной атаки между классами Rock и Grass отличается.\n",
        "Поэтому можем опровергнуть предположения профессора Оук - покемоны в классе grass имеют более сильную обычную атаку, чем у покемонов в классе rock.\n",
        "\n",
        "Более сильную обычную атаку имеют покемоны класса Rock.\n",
        "\n",
        "---\n",
        "\n"
      ],
      "metadata": {
        "id": "46Bxjz3nKNqt"
      }
    },
    {
      "cell_type": "markdown",
      "source": [
        "<div class=\"alert alert-info\">\n",
        "<b>Задание № 2:</b>\n",
        "    \n",
        "Профессор Оук уже долго не может спать по ночам ведь его волнует вопрос, а правда, что покемоны что покемоны в классе `Water` в среднем более быстрые, чем покемоны в классе `Normal`.\n",
        "    \n",
        "    \n",
        "Проверьте, прав ли он, и убедите его в своем выводе статистически.\n",
        "    \n",
        "Примечание: если есть покемоны относятся к обоим классам, выбросьте их;\n",
        "    \n",
        "Вы можете предположить, что распределение скорости движения является нормальным для всех классов покемонов.\n",
        "\n",
        "</div>"
      ],
      "metadata": {
        "id": "svMrHZfxX2ep"
      }
    },
    {
      "cell_type": "code",
      "source": [
        "# исключаем из данных строки, покемоны которых относятся к обоим классам Water и Normal\n",
        "\n",
        "pok1 = pokemon[~(((pokemon['Class 1']=='Water') & (pokemon['Class 2']=='Normal')) |\n",
        "              ((pokemon['Class 1']=='Normal') & (pokemon['Class 2']=='Water')))]\n",
        "pok1"
      ],
      "metadata": {
        "colab": {
          "base_uri": "https://localhost:8080/",
          "height": 423
        },
        "id": "s8XzuT9HLn0e",
        "outputId": "5baebd39-031c-491c-85a5-b60f7fec7b74"
      },
      "execution_count": null,
      "outputs": [
        {
          "output_type": "execute_result",
          "data": {
            "text/plain": [
              "     pid            Name  Class 1 Class 2  HP  Attack  Defense  Sp. Atk  \\\n",
              "0      1       Bulbasaur    Grass  Poison  45      49       49       65   \n",
              "1      2         Ivysaur    Grass  Poison  60      62       63       80   \n",
              "2      3        Venusaur    Grass  Poison  80      82       83      100   \n",
              "3      4   Mega Venusaur    Grass  Poison  80     100      123      122   \n",
              "4      5      Charmander     Fire     NaN  39      52       43       60   \n",
              "..   ...             ...      ...     ...  ..     ...      ...      ...   \n",
              "795  796         Diancie     Rock   Fairy  50     100      150      100   \n",
              "796  797    Mega Diancie     Rock   Fairy  50     160      110      160   \n",
              "797  798  Hoopa Confined  Psychic   Ghost  80     110       60      150   \n",
              "798  799   Hoopa Unbound  Psychic    Dark  80     160       60      170   \n",
              "799  800       Volcanion     Fire   Water  80     110      120      130   \n",
              "\n",
              "     Sp. Def  Speed  Legendary  \n",
              "0         65     45      False  \n",
              "1         80     60      False  \n",
              "2        100     80      False  \n",
              "3        120     80      False  \n",
              "4         50     65      False  \n",
              "..       ...    ...        ...  \n",
              "795      150     50       True  \n",
              "796      110    110       True  \n",
              "797      130     70       True  \n",
              "798      130     80       True  \n",
              "799       90     70       True  \n",
              "\n",
              "[799 rows x 11 columns]"
            ],
            "text/html": [
              "\n",
              "  <div id=\"df-5d4efaf0-7ead-4a2c-a00b-1c3de4e37722\">\n",
              "    <div class=\"colab-df-container\">\n",
              "      <div>\n",
              "<style scoped>\n",
              "    .dataframe tbody tr th:only-of-type {\n",
              "        vertical-align: middle;\n",
              "    }\n",
              "\n",
              "    .dataframe tbody tr th {\n",
              "        vertical-align: top;\n",
              "    }\n",
              "\n",
              "    .dataframe thead th {\n",
              "        text-align: right;\n",
              "    }\n",
              "</style>\n",
              "<table border=\"1\" class=\"dataframe\">\n",
              "  <thead>\n",
              "    <tr style=\"text-align: right;\">\n",
              "      <th></th>\n",
              "      <th>pid</th>\n",
              "      <th>Name</th>\n",
              "      <th>Class 1</th>\n",
              "      <th>Class 2</th>\n",
              "      <th>HP</th>\n",
              "      <th>Attack</th>\n",
              "      <th>Defense</th>\n",
              "      <th>Sp. Atk</th>\n",
              "      <th>Sp. Def</th>\n",
              "      <th>Speed</th>\n",
              "      <th>Legendary</th>\n",
              "    </tr>\n",
              "  </thead>\n",
              "  <tbody>\n",
              "    <tr>\n",
              "      <th>0</th>\n",
              "      <td>1</td>\n",
              "      <td>Bulbasaur</td>\n",
              "      <td>Grass</td>\n",
              "      <td>Poison</td>\n",
              "      <td>45</td>\n",
              "      <td>49</td>\n",
              "      <td>49</td>\n",
              "      <td>65</td>\n",
              "      <td>65</td>\n",
              "      <td>45</td>\n",
              "      <td>False</td>\n",
              "    </tr>\n",
              "    <tr>\n",
              "      <th>1</th>\n",
              "      <td>2</td>\n",
              "      <td>Ivysaur</td>\n",
              "      <td>Grass</td>\n",
              "      <td>Poison</td>\n",
              "      <td>60</td>\n",
              "      <td>62</td>\n",
              "      <td>63</td>\n",
              "      <td>80</td>\n",
              "      <td>80</td>\n",
              "      <td>60</td>\n",
              "      <td>False</td>\n",
              "    </tr>\n",
              "    <tr>\n",
              "      <th>2</th>\n",
              "      <td>3</td>\n",
              "      <td>Venusaur</td>\n",
              "      <td>Grass</td>\n",
              "      <td>Poison</td>\n",
              "      <td>80</td>\n",
              "      <td>82</td>\n",
              "      <td>83</td>\n",
              "      <td>100</td>\n",
              "      <td>100</td>\n",
              "      <td>80</td>\n",
              "      <td>False</td>\n",
              "    </tr>\n",
              "    <tr>\n",
              "      <th>3</th>\n",
              "      <td>4</td>\n",
              "      <td>Mega Venusaur</td>\n",
              "      <td>Grass</td>\n",
              "      <td>Poison</td>\n",
              "      <td>80</td>\n",
              "      <td>100</td>\n",
              "      <td>123</td>\n",
              "      <td>122</td>\n",
              "      <td>120</td>\n",
              "      <td>80</td>\n",
              "      <td>False</td>\n",
              "    </tr>\n",
              "    <tr>\n",
              "      <th>4</th>\n",
              "      <td>5</td>\n",
              "      <td>Charmander</td>\n",
              "      <td>Fire</td>\n",
              "      <td>NaN</td>\n",
              "      <td>39</td>\n",
              "      <td>52</td>\n",
              "      <td>43</td>\n",
              "      <td>60</td>\n",
              "      <td>50</td>\n",
              "      <td>65</td>\n",
              "      <td>False</td>\n",
              "    </tr>\n",
              "    <tr>\n",
              "      <th>...</th>\n",
              "      <td>...</td>\n",
              "      <td>...</td>\n",
              "      <td>...</td>\n",
              "      <td>...</td>\n",
              "      <td>...</td>\n",
              "      <td>...</td>\n",
              "      <td>...</td>\n",
              "      <td>...</td>\n",
              "      <td>...</td>\n",
              "      <td>...</td>\n",
              "      <td>...</td>\n",
              "    </tr>\n",
              "    <tr>\n",
              "      <th>795</th>\n",
              "      <td>796</td>\n",
              "      <td>Diancie</td>\n",
              "      <td>Rock</td>\n",
              "      <td>Fairy</td>\n",
              "      <td>50</td>\n",
              "      <td>100</td>\n",
              "      <td>150</td>\n",
              "      <td>100</td>\n",
              "      <td>150</td>\n",
              "      <td>50</td>\n",
              "      <td>True</td>\n",
              "    </tr>\n",
              "    <tr>\n",
              "      <th>796</th>\n",
              "      <td>797</td>\n",
              "      <td>Mega Diancie</td>\n",
              "      <td>Rock</td>\n",
              "      <td>Fairy</td>\n",
              "      <td>50</td>\n",
              "      <td>160</td>\n",
              "      <td>110</td>\n",
              "      <td>160</td>\n",
              "      <td>110</td>\n",
              "      <td>110</td>\n",
              "      <td>True</td>\n",
              "    </tr>\n",
              "    <tr>\n",
              "      <th>797</th>\n",
              "      <td>798</td>\n",
              "      <td>Hoopa Confined</td>\n",
              "      <td>Psychic</td>\n",
              "      <td>Ghost</td>\n",
              "      <td>80</td>\n",
              "      <td>110</td>\n",
              "      <td>60</td>\n",
              "      <td>150</td>\n",
              "      <td>130</td>\n",
              "      <td>70</td>\n",
              "      <td>True</td>\n",
              "    </tr>\n",
              "    <tr>\n",
              "      <th>798</th>\n",
              "      <td>799</td>\n",
              "      <td>Hoopa Unbound</td>\n",
              "      <td>Psychic</td>\n",
              "      <td>Dark</td>\n",
              "      <td>80</td>\n",
              "      <td>160</td>\n",
              "      <td>60</td>\n",
              "      <td>170</td>\n",
              "      <td>130</td>\n",
              "      <td>80</td>\n",
              "      <td>True</td>\n",
              "    </tr>\n",
              "    <tr>\n",
              "      <th>799</th>\n",
              "      <td>800</td>\n",
              "      <td>Volcanion</td>\n",
              "      <td>Fire</td>\n",
              "      <td>Water</td>\n",
              "      <td>80</td>\n",
              "      <td>110</td>\n",
              "      <td>120</td>\n",
              "      <td>130</td>\n",
              "      <td>90</td>\n",
              "      <td>70</td>\n",
              "      <td>True</td>\n",
              "    </tr>\n",
              "  </tbody>\n",
              "</table>\n",
              "<p>799 rows × 11 columns</p>\n",
              "</div>\n",
              "      <button class=\"colab-df-convert\" onclick=\"convertToInteractive('df-5d4efaf0-7ead-4a2c-a00b-1c3de4e37722')\"\n",
              "              title=\"Convert this dataframe to an interactive table.\"\n",
              "              style=\"display:none;\">\n",
              "        \n",
              "  <svg xmlns=\"http://www.w3.org/2000/svg\" height=\"24px\"viewBox=\"0 0 24 24\"\n",
              "       width=\"24px\">\n",
              "    <path d=\"M0 0h24v24H0V0z\" fill=\"none\"/>\n",
              "    <path d=\"M18.56 5.44l.94 2.06.94-2.06 2.06-.94-2.06-.94-.94-2.06-.94 2.06-2.06.94zm-11 1L8.5 8.5l.94-2.06 2.06-.94-2.06-.94L8.5 2.5l-.94 2.06-2.06.94zm10 10l.94 2.06.94-2.06 2.06-.94-2.06-.94-.94-2.06-.94 2.06-2.06.94z\"/><path d=\"M17.41 7.96l-1.37-1.37c-.4-.4-.92-.59-1.43-.59-.52 0-1.04.2-1.43.59L10.3 9.45l-7.72 7.72c-.78.78-.78 2.05 0 2.83L4 21.41c.39.39.9.59 1.41.59.51 0 1.02-.2 1.41-.59l7.78-7.78 2.81-2.81c.8-.78.8-2.07 0-2.86zM5.41 20L4 18.59l7.72-7.72 1.47 1.35L5.41 20z\"/>\n",
              "  </svg>\n",
              "      </button>\n",
              "      \n",
              "  <style>\n",
              "    .colab-df-container {\n",
              "      display:flex;\n",
              "      flex-wrap:wrap;\n",
              "      gap: 12px;\n",
              "    }\n",
              "\n",
              "    .colab-df-convert {\n",
              "      background-color: #E8F0FE;\n",
              "      border: none;\n",
              "      border-radius: 50%;\n",
              "      cursor: pointer;\n",
              "      display: none;\n",
              "      fill: #1967D2;\n",
              "      height: 32px;\n",
              "      padding: 0 0 0 0;\n",
              "      width: 32px;\n",
              "    }\n",
              "\n",
              "    .colab-df-convert:hover {\n",
              "      background-color: #E2EBFA;\n",
              "      box-shadow: 0px 1px 2px rgba(60, 64, 67, 0.3), 0px 1px 3px 1px rgba(60, 64, 67, 0.15);\n",
              "      fill: #174EA6;\n",
              "    }\n",
              "\n",
              "    [theme=dark] .colab-df-convert {\n",
              "      background-color: #3B4455;\n",
              "      fill: #D2E3FC;\n",
              "    }\n",
              "\n",
              "    [theme=dark] .colab-df-convert:hover {\n",
              "      background-color: #434B5C;\n",
              "      box-shadow: 0px 1px 3px 1px rgba(0, 0, 0, 0.15);\n",
              "      filter: drop-shadow(0px 1px 2px rgba(0, 0, 0, 0.3));\n",
              "      fill: #FFFFFF;\n",
              "    }\n",
              "  </style>\n",
              "\n",
              "      <script>\n",
              "        const buttonEl =\n",
              "          document.querySelector('#df-5d4efaf0-7ead-4a2c-a00b-1c3de4e37722 button.colab-df-convert');\n",
              "        buttonEl.style.display =\n",
              "          google.colab.kernel.accessAllowed ? 'block' : 'none';\n",
              "\n",
              "        async function convertToInteractive(key) {\n",
              "          const element = document.querySelector('#df-5d4efaf0-7ead-4a2c-a00b-1c3de4e37722');\n",
              "          const dataTable =\n",
              "            await google.colab.kernel.invokeFunction('convertToInteractive',\n",
              "                                                     [key], {});\n",
              "          if (!dataTable) return;\n",
              "\n",
              "          const docLinkHtml = 'Like what you see? Visit the ' +\n",
              "            '<a target=\"_blank\" href=https://colab.research.google.com/notebooks/data_table.ipynb>data table notebook</a>'\n",
              "            + ' to learn more about interactive tables.';\n",
              "          element.innerHTML = '';\n",
              "          dataTable['output_type'] = 'display_data';\n",
              "          await google.colab.output.renderOutput(dataTable, element);\n",
              "          const docLink = document.createElement('div');\n",
              "          docLink.innerHTML = docLinkHtml;\n",
              "          element.appendChild(docLink);\n",
              "        }\n",
              "      </script>\n",
              "    </div>\n",
              "  </div>\n",
              "  "
            ]
          },
          "metadata": {},
          "execution_count": 84
        }
      ]
    },
    {
      "cell_type": "code",
      "source": [
        "# датафреймы для покемонов класса Water и Normal\n",
        "\n",
        "pok_water = pok[(pok['Class 1']== 'Water') | (pok['Class 2']== 'Water')]        #покемоны класса Water\n",
        "print(len(pok_water))\n",
        "pok_normal = pok[(pok['Class 1']== 'Normal') | (pok['Class 2']== 'Normal')]     #покемоны класса Normal\n",
        "print(len(pok_normal))"
      ],
      "metadata": {
        "colab": {
          "base_uri": "https://localhost:8080/"
        },
        "id": "jIkov3OYLobp",
        "outputId": "3c9deecb-d724-44b9-a0db-7f00ee9172da"
      },
      "execution_count": null,
      "outputs": [
        {
          "output_type": "stream",
          "name": "stdout",
          "text": [
            "126\n",
            "102\n"
          ]
        }
      ]
    },
    {
      "cell_type": "code",
      "source": [
        "print(f\"Среднее значение скорости в классе Water: {pok_water['Speed'].mean(): .2f}\")\n",
        "print(f\"Среднее значение скорости в классе Normal: {pok_normal['Speed'].mean(): .2f}\")"
      ],
      "metadata": {
        "colab": {
          "base_uri": "https://localhost:8080/"
        },
        "id": "1BaDDSZFN6-3",
        "outputId": "3d3e73fa-3baf-4251-a214-c684286799d0"
      },
      "execution_count": null,
      "outputs": [
        {
          "output_type": "stream",
          "name": "stdout",
          "text": [
            "Среднее значение скорости в классе Water:  64.98\n",
            "Среднее значение скорости в классе Normal:  72.25\n"
          ]
        }
      ]
    },
    {
      "cell_type": "code",
      "source": [
        "plt.boxplot([pok_water['Speed'],pok_normal['Speed']]);"
      ],
      "metadata": {
        "colab": {
          "base_uri": "https://localhost:8080/",
          "height": 323
        },
        "id": "CDbhnDh2OiFo",
        "outputId": "12d574cc-117a-4b19-cf32-20e0e257c53f"
      },
      "execution_count": null,
      "outputs": [
        {
          "output_type": "stream",
          "name": "stderr",
          "text": [
            "/usr/local/lib/python3.8/dist-packages/matplotlib/cbook/__init__.py:1376: VisibleDeprecationWarning: Creating an ndarray from ragged nested sequences (which is a list-or-tuple of lists-or-tuples-or ndarrays with different lengths or shapes) is deprecated. If you meant to do this, you must specify 'dtype=object' when creating the ndarray.\n",
            "  X = np.atleast_1d(X.T if isinstance(X, np.ndarray) else np.asarray(X))\n"
          ]
        },
        {
          "output_type": "display_data",
          "data": {
            "text/plain": [
              "<Figure size 432x288 with 1 Axes>"
            ],
            "image/png": "[encoded data removed]"
          },
          "metadata": {
            "needs_background": "light"
          }
        }
      ]
    },
    {
      "cell_type": "markdown",
      "source": [
        "*Среднее значения скорости показывают, что покемоны класса Normal быстрее класса Water, что противоречит предположениям профессора Оук.*"
      ],
      "metadata": {
        "id": "UrfvrM7RO7wK"
      }
    },
    {
      "cell_type": "code",
      "source": [
        "# проверим данные на различие дисперсий\n",
        "\n",
        "stat, p = st.levene(pok_water['Speed'],pok_normal['Speed'])\n",
        "print(f\"Статистика = {stat:.5f}, p = {p:.7f}\")\n",
        "\n",
        "if p <0.05:\n",
        "  print(\"Отклоняем нулевую гипотезу >> Дисперсии в группах раличаются\")\n",
        "else:\n",
        "  print(\"Не отклоняем нулевую гипотезу >> Дисперсии в группах одинаковые\")"
      ],
      "metadata": {
        "colab": {
          "base_uri": "https://localhost:8080/"
        },
        "id": "5UA0FvvzPWJZ",
        "outputId": "bd19aad0-5f42-43b0-af67-d465f4c4e5f2"
      },
      "execution_count": null,
      "outputs": [
        {
          "output_type": "stream",
          "name": "stdout",
          "text": [
            "Статистика = 7.37000, p = 0.0071440\n",
            "Отклоняем нулевую гипотезу >> Дисперсии в группах раличаются\n"
          ]
        }
      ]
    },
    {
      "cell_type": "code",
      "source": [
        "# тест Стьюдента с поправкой на различие дисперсий\n",
        "# Н0 - средние занчения статистически не отличаются, скорость одинакова для классов Rock и Grass\n",
        "# Н1 - средние значения различаются, скорость одного класса сильнее другого класса\n",
        "\n",
        "stat, p = st.ttest_ind(pok_water['Speed'],pok_normal['Speed'], equal_var = False)\n",
        "print('Статистика=%.3f, p=%.10f' % (stat, p))\n",
        "\n",
        "if p > 0.05:\n",
        "    print('Не отклоняем нулевую гипотезу, средние, вероятно, одинаковые')\n",
        "else:\n",
        "    print('Отклоняем нулевую гипотезу, средние, вероятно, различаются')"
      ],
      "metadata": {
        "colab": {
          "base_uri": "https://localhost:8080/"
        },
        "id": "lJu5p88APv-n",
        "outputId": "324c7eb4-9d9f-4ded-a9c6-daabc720772a"
      },
      "execution_count": null,
      "outputs": [
        {
          "output_type": "stream",
          "name": "stdout",
          "text": [
            "Статистика=-2.103, p=0.0367733783\n",
            "Отклоняем нулевую гипотезу, средние, вероятно, различаются\n"
          ]
        }
      ]
    },
    {
      "cell_type": "markdown",
      "source": [
        "**Вывод.**\n",
        "\n",
        "Тест Стьюдента отклоняет гипотезу об одинаковых средних, то есть с вероятностью 95 % скорость между классами Water и Normal отличается. Поэтому на основании средних значений, можем опровергнуть предположения профессора Оук - покемоны в классе Water в среднем более быстрее, чем покемоны класс Normal.\n",
        "\n",
        "В среднем быстрее покемоны класса Normal."
      ],
      "metadata": {
        "id": "Iq0PFNEUQR1l"
      }
    },
    {
      "cell_type": "markdown",
      "source": [
        "<div class=\"alert alert-info\">\n",
        "<b>Задание № 3:</b>\n",
        "    \n",
        "Профессор Оук тот еще безумец. Он изобрел сыворотку, способную ускорить покемона. Однако, мы усомнились в эффективности его вакцины. Професоор дал эту сыворотку следующим покемонам: смотри массив `treathed_pokemon`. Проверьте, работает ли вообще его сыворотка, убедите всех в своем выводе статистически.\n",
        "    \n",
        "    \n",
        "Вы можете предположить, что распределение скорости движения является нормальным для всех классов покемонов.\n",
        "\n",
        "</div>"
      ],
      "metadata": {
        "id": "u71oTdDBX81K"
      }
    },
    {
      "cell_type": "code",
      "source": [
        "# Покемоны, которые принимали сыворотку увеличения скорости\n",
        "treathed_pokemon = ['Mega Beedrill', 'Mega Alakazam',\n",
        "                    'Deoxys Normal Forme', 'Mega Lopunny']"
      ],
      "metadata": {
        "id": "2io-mN25YACk"
      },
      "execution_count": null,
      "outputs": []
    },
    {
      "cell_type": "markdown",
      "source": [
        "Будем сравнивать средние значения скорости движения покемонов:\n",
        "\n",
        "1. покемоны, которые принимали сыворотку - Mega Beedrill, Mega Alakazam, Deoxys Normal Forme, Mega Lopunny;\n",
        "2. все покемоны.\n"
      ],
      "metadata": {
        "id": "waSuQLYiXVgR"
      }
    },
    {
      "cell_type": "code",
      "source": [
        "# Покемоны, принимавшие сыворотку\n",
        "\n",
        "pok_treathed = pokemon[pokemon['Name'].isin(treathed_pokemon)]\n",
        "pok_treathed"
      ],
      "metadata": {
        "colab": {
          "base_uri": "https://localhost:8080/",
          "height": 174
        },
        "id": "C2-lTm2sU8Vh",
        "outputId": "016ba2b2-f6ff-4659-f824-7d2f147ba1a0"
      },
      "execution_count": null,
      "outputs": [
        {
          "output_type": "execute_result",
          "data": {
            "text/plain": [
              "     pid                 Name  Class 1   Class 2  HP  Attack  Defense  \\\n",
              "19    20        Mega Beedrill      Bug    Poison  65     150       40   \n",
              "71    72        Mega Alakazam  Psychic       NaN  55      50       65   \n",
              "428  429  Deoxys Normal Forme  Psychic       NaN  50     150       50   \n",
              "476  477         Mega Lopunny   Normal  Fighting  65     136       94   \n",
              "\n",
              "     Sp. Atk  Sp. Def  Speed  Legendary  \n",
              "19        15       80    145      False  \n",
              "71       175       95    150      False  \n",
              "428      150       50    150       True  \n",
              "476       54       96    135      False  "
            ],
            "text/html": [
              "\n",
              "  <div id=\"df-f7eb4ebf-6a0a-488e-bd52-f71a61f7a58a\">\n",
              "    <div class=\"colab-df-container\">\n",
              "      <div>\n",
              "<style scoped>\n",
              "    .dataframe tbody tr th:only-of-type {\n",
              "        vertical-align: middle;\n",
              "    }\n",
              "\n",
              "    .dataframe tbody tr th {\n",
              "        vertical-align: top;\n",
              "    }\n",
              "\n",
              "    .dataframe thead th {\n",
              "        text-align: right;\n",
              "    }\n",
              "</style>\n",
              "<table border=\"1\" class=\"dataframe\">\n",
              "  <thead>\n",
              "    <tr style=\"text-align: right;\">\n",
              "      <th></th>\n",
              "      <th>pid</th>\n",
              "      <th>Name</th>\n",
              "      <th>Class 1</th>\n",
              "      <th>Class 2</th>\n",
              "      <th>HP</th>\n",
              "      <th>Attack</th>\n",
              "      <th>Defense</th>\n",
              "      <th>Sp. Atk</th>\n",
              "      <th>Sp. Def</th>\n",
              "      <th>Speed</th>\n",
              "      <th>Legendary</th>\n",
              "    </tr>\n",
              "  </thead>\n",
              "  <tbody>\n",
              "    <tr>\n",
              "      <th>19</th>\n",
              "      <td>20</td>\n",
              "      <td>Mega Beedrill</td>\n",
              "      <td>Bug</td>\n",
              "      <td>Poison</td>\n",
              "      <td>65</td>\n",
              "      <td>150</td>\n",
              "      <td>40</td>\n",
              "      <td>15</td>\n",
              "      <td>80</td>\n",
              "      <td>145</td>\n",
              "      <td>False</td>\n",
              "    </tr>\n",
              "    <tr>\n",
              "      <th>71</th>\n",
              "      <td>72</td>\n",
              "      <td>Mega Alakazam</td>\n",
              "      <td>Psychic</td>\n",
              "      <td>NaN</td>\n",
              "      <td>55</td>\n",
              "      <td>50</td>\n",
              "      <td>65</td>\n",
              "      <td>175</td>\n",
              "      <td>95</td>\n",
              "      <td>150</td>\n",
              "      <td>False</td>\n",
              "    </tr>\n",
              "    <tr>\n",
              "      <th>428</th>\n",
              "      <td>429</td>\n",
              "      <td>Deoxys Normal Forme</td>\n",
              "      <td>Psychic</td>\n",
              "      <td>NaN</td>\n",
              "      <td>50</td>\n",
              "      <td>150</td>\n",
              "      <td>50</td>\n",
              "      <td>150</td>\n",
              "      <td>50</td>\n",
              "      <td>150</td>\n",
              "      <td>True</td>\n",
              "    </tr>\n",
              "    <tr>\n",
              "      <th>476</th>\n",
              "      <td>477</td>\n",
              "      <td>Mega Lopunny</td>\n",
              "      <td>Normal</td>\n",
              "      <td>Fighting</td>\n",
              "      <td>65</td>\n",
              "      <td>136</td>\n",
              "      <td>94</td>\n",
              "      <td>54</td>\n",
              "      <td>96</td>\n",
              "      <td>135</td>\n",
              "      <td>False</td>\n",
              "    </tr>\n",
              "  </tbody>\n",
              "</table>\n",
              "</div>\n",
              "      <button class=\"colab-df-convert\" onclick=\"convertToInteractive('df-f7eb4ebf-6a0a-488e-bd52-f71a61f7a58a')\"\n",
              "              title=\"Convert this dataframe to an interactive table.\"\n",
              "              style=\"display:none;\">\n",
              "        \n",
              "  <svg xmlns=\"http://www.w3.org/2000/svg\" height=\"24px\"viewBox=\"0 0 24 24\"\n",
              "       width=\"24px\">\n",
              "    <path d=\"M0 0h24v24H0V0z\" fill=\"none\"/>\n",
              "    <path d=\"M18.56 5.44l.94 2.06.94-2.06 2.06-.94-2.06-.94-.94-2.06-.94 2.06-2.06.94zm-11 1L8.5 8.5l.94-2.06 2.06-.94-2.06-.94L8.5 2.5l-.94 2.06-2.06.94zm10 10l.94 2.06.94-2.06 2.06-.94-2.06-.94-.94-2.06-.94 2.06-2.06.94z\"/><path d=\"M17.41 7.96l-1.37-1.37c-.4-.4-.92-.59-1.43-.59-.52 0-1.04.2-1.43.59L10.3 9.45l-7.72 7.72c-.78.78-.78 2.05 0 2.83L4 21.41c.39.39.9.59 1.41.59.51 0 1.02-.2 1.41-.59l7.78-7.78 2.81-2.81c.8-.78.8-2.07 0-2.86zM5.41 20L4 18.59l7.72-7.72 1.47 1.35L5.41 20z\"/>\n",
              "  </svg>\n",
              "      </button>\n",
              "      \n",
              "  <style>\n",
              "    .colab-df-container {\n",
              "      display:flex;\n",
              "      flex-wrap:wrap;\n",
              "      gap: 12px;\n",
              "    }\n",
              "\n",
              "    .colab-df-convert {\n",
              "      background-color: #E8F0FE;\n",
              "      border: none;\n",
              "      border-radius: 50%;\n",
              "      cursor: pointer;\n",
              "      display: none;\n",
              "      fill: #1967D2;\n",
              "      height: 32px;\n",
              "      padding: 0 0 0 0;\n",
              "      width: 32px;\n",
              "    }\n",
              "\n",
              "    .colab-df-convert:hover {\n",
              "      background-color: #E2EBFA;\n",
              "      box-shadow: 0px 1px 2px rgba(60, 64, 67, 0.3), 0px 1px 3px 1px rgba(60, 64, 67, 0.15);\n",
              "      fill: #174EA6;\n",
              "    }\n",
              "\n",
              "    [theme=dark] .colab-df-convert {\n",
              "      background-color: #3B4455;\n",
              "      fill: #D2E3FC;\n",
              "    }\n",
              "\n",
              "    [theme=dark] .colab-df-convert:hover {\n",
              "      background-color: #434B5C;\n",
              "      box-shadow: 0px 1px 3px 1px rgba(0, 0, 0, 0.15);\n",
              "      filter: drop-shadow(0px 1px 2px rgba(0, 0, 0, 0.3));\n",
              "      fill: #FFFFFF;\n",
              "    }\n",
              "  </style>\n",
              "\n",
              "      <script>\n",
              "        const buttonEl =\n",
              "          document.querySelector('#df-f7eb4ebf-6a0a-488e-bd52-f71a61f7a58a button.colab-df-convert');\n",
              "        buttonEl.style.display =\n",
              "          google.colab.kernel.accessAllowed ? 'block' : 'none';\n",
              "\n",
              "        async function convertToInteractive(key) {\n",
              "          const element = document.querySelector('#df-f7eb4ebf-6a0a-488e-bd52-f71a61f7a58a');\n",
              "          const dataTable =\n",
              "            await google.colab.kernel.invokeFunction('convertToInteractive',\n",
              "                                                     [key], {});\n",
              "          if (!dataTable) return;\n",
              "\n",
              "          const docLinkHtml = 'Like what you see? Visit the ' +\n",
              "            '<a target=\"_blank\" href=https://colab.research.google.com/notebooks/data_table.ipynb>data table notebook</a>'\n",
              "            + ' to learn more about interactive tables.';\n",
              "          element.innerHTML = '';\n",
              "          dataTable['output_type'] = 'display_data';\n",
              "          await google.colab.output.renderOutput(dataTable, element);\n",
              "          const docLink = document.createElement('div');\n",
              "          docLink.innerHTML = docLinkHtml;\n",
              "          element.appendChild(docLink);\n",
              "        }\n",
              "      </script>\n",
              "    </div>\n",
              "  </div>\n",
              "  "
            ]
          },
          "metadata": {},
          "execution_count": 90
        }
      ]
    },
    {
      "cell_type": "code",
      "source": [
        "# покемоны, которые не принимали сыворотку\n",
        "\n",
        "pok_other = pokemon[~(pokemon['Name'].isin(treathed_pokemon))]\n"
      ],
      "metadata": {
        "id": "sDUcYe6yZ4SM"
      },
      "execution_count": null,
      "outputs": []
    },
    {
      "cell_type": "code",
      "source": [
        "print(f\"Средняя скорость движения всех покемонов: {pokemon['Speed'].mean(): .2f}\")\n",
        "print(f\"Средняя скорость движения покемонов, не принимавших сыворотку: {pok_other['Speed'].mean(): .2f}\")\n",
        "print(f\"Средняя скорость движения покемонов, принимавших сыворотку: {pok_treathed['Speed'].mean(): .2f}\")"
      ],
      "metadata": {
        "colab": {
          "base_uri": "https://localhost:8080/"
        },
        "id": "mnrNYOk-c3LS",
        "outputId": "050ff65c-56d0-4e6b-8e6c-c9d55bd77eb9"
      },
      "execution_count": null,
      "outputs": [
        {
          "output_type": "stream",
          "name": "stdout",
          "text": [
            "Средняя скорость движения всех покемонов:  68.28\n",
            "Средняя скорость движения покемонов, не принимавших сыворотку:  67.89\n",
            "Средняя скорость движения покемонов, принимавших сыворотку:  145.00\n"
          ]
        }
      ]
    },
    {
      "cell_type": "code",
      "source": [
        "plt.boxplot([pokemon['Speed'], pok_other['Speed'], pok_treathed['Speed']]);"
      ],
      "metadata": {
        "colab": {
          "base_uri": "https://localhost:8080/",
          "height": 321
        },
        "id": "PzZDnf14dq4f",
        "outputId": "70541fe1-d727-4ed9-8bab-40e97e546952"
      },
      "execution_count": null,
      "outputs": [
        {
          "output_type": "stream",
          "name": "stderr",
          "text": [
            "/usr/local/lib/python3.8/dist-packages/matplotlib/cbook/__init__.py:1376: VisibleDeprecationWarning: Creating an ndarray from ragged nested sequences (which is a list-or-tuple of lists-or-tuples-or ndarrays with different lengths or shapes) is deprecated. If you meant to do this, you must specify 'dtype=object' when creating the ndarray.\n",
            "  X = np.atleast_1d(X.T if isinstance(X, np.ndarray) else np.asarray(X))\n"
          ]
        },
        {
          "output_type": "display_data",
          "data": {
            "text/plain": [
              "<Figure size 432x288 with 1 Axes>"
            ],
            "image/png": "[encoded data removed]"
          },
          "metadata": {
            "needs_background": "light"
          }
        }
      ]
    },
    {
      "cell_type": "markdown",
      "source": [
        "*Среднее значение покемонов, принимавших сыворотку 145.00 и значительно отличается от среднего значения всех покемонов - 68.28, или от значения покемонов, которые не принимали сыворотку - 67.89.*\n",
        "\n",
        "Проверим статистическую значимость этих значений."
      ],
      "metadata": {
        "id": "LD_YwsHRvUQw"
      }
    },
    {
      "cell_type": "markdown",
      "source": [
        "Используем одновыборочный Т-тест, так как нужно сравнить среднюю скорость выборки с общим количеством покемонов."
      ],
      "metadata": {
        "id": "tTd6MNosbyTf"
      }
    },
    {
      "cell_type": "code",
      "source": [
        "# Н0 - среднее значение скорости покемонов, принимавших сыворотку, не отличается от среднего всех покемонов\n",
        "# Н1 - среднее значение скорости покемонов, принимавших сыворотку, отличается от среднего всех покемонов\n",
        "\n",
        "stat, p = st.ttest_1samp(a=pok_treathed['Speed'], popmean=pokemon['Speed'].mean())\n",
        "print(f\"Статистика = {stat:.3f}, p = {p:.3f}\")\n",
        "\n",
        "if p > 0.05:\n",
        "    print(\"Не отклоняем нулевую гипотезу, среднее значение скорости покемонов, принимавших сыворотку, вероятно, не отличается от среднего всех покемонов\")\n",
        "else:\n",
        "    print(\"Отклоняем нулевую гипотезу, среднее значение скорости покемонов, принимавших сыворотку, вероятно, отличается от среднего всех покемонов\")"
      ],
      "metadata": {
        "colab": {
          "base_uri": "https://localhost:8080/"
        },
        "id": "iSV8eVA-mDWn",
        "outputId": "fcdabbf6-f17d-4816-ad38-fca648d80bcf"
      },
      "execution_count": null,
      "outputs": [
        {
          "output_type": "stream",
          "name": "stdout",
          "text": [
            "Статистика = 21.700, p = 0.000\n",
            "Отклоняем нулевую гипотезу, среднее значение скорости покемонов, принимавших сыворотку, вероятно, отличается от среднего всех покемонов\n"
          ]
        }
      ]
    },
    {
      "cell_type": "markdown",
      "source": [
        "**Вывод.**\n",
        "\n",
        "С вероятностью 95 % средняя скорость покемонов, принимавших сыворотку, отличается статистически от средней скорости всех покемонов. Следовательно, сыворотка увеличивает скорость покемонов, так как среднее значение скорости покемонов с сывороткой составляет 145.00, и в два раза выше скорости всех покемонов - 68.28.\n",
        "\n",
        "---\n",
        "\n"
      ],
      "metadata": {
        "id": "_TLzVHt4nkl8"
      }
    },
    {
      "cell_type": "markdown",
      "source": [
        "<div class=\"alert alert-info\">\n",
        "<b>Задание № 4:</b>\n",
        "    \n",
        "Профессор Оук всегда любил истории про легендарных покемонов. Однако, профессор не очень уверен, что они самые лучшие относительно остальных покемонов. Оук предложил разобраться в этом нам. Проверьте, действительно ли сумма характеристик `HP`,`Attack`,`Defense` у легендарных покемонов выше, чем у других покемонов? А произведение этих же параметров?? Найдите ответы на эти вопросы и убедите всех в своем выводе статистически.\n",
        "   \n",
        "\n",
        "Вы можете предположить, что распределение сум и произведений этих параметров является нормальным для всех классов покемонов.\n",
        "\n",
        "</div>"
      ],
      "metadata": {
        "id": "YB_fODLwYDAs"
      }
    },
    {
      "cell_type": "code",
      "source": [
        "# рассчитаем сумму и произведение характеристик HP,Attack,Defense у легендарных покемонов\n",
        "\n",
        "pok_legend = pokemon[pokemon['Legendary']== True]                                # датафрейм легендарных покемонов\n",
        "\n",
        "pok_legend['Sum_charac'] = pok_legend.iloc[:,4:7].sum(axis = 1)                  # сумма характеристик\n",
        "pok_legend['Multiply_charac'] = pok_legend['HP'] * pok_legend['Attack'] * pok_legend['Defense']   # произведение характеристик\n",
        "pok_legend.head()"
      ],
      "metadata": {
        "colab": {
          "base_uri": "https://localhost:8080/",
          "height": 423
        },
        "id": "opwauvXqrbDP",
        "outputId": "b6c3f430-d991-4313-d043-e044c55c4d36"
      },
      "execution_count": null,
      "outputs": [
        {
          "output_type": "stream",
          "name": "stderr",
          "text": [
            "<ipython-input-98-33ecbf99fc89>:5: SettingWithCopyWarning: \n",
            "A value is trying to be set on a copy of a slice from a DataFrame.\n",
            "Try using .loc[row_indexer,col_indexer] = value instead\n",
            "\n",
            "See the caveats in the documentation: https://pandas.pydata.org/pandas-docs/stable/user_guide/indexing.html#returning-a-view-versus-a-copy\n",
            "  pok_legend['Sum_charac'] = pok_legend.iloc[:,4:7].sum(axis = 1)                  # сумма характеристик\n",
            "<ipython-input-98-33ecbf99fc89>:6: SettingWithCopyWarning: \n",
            "A value is trying to be set on a copy of a slice from a DataFrame.\n",
            "Try using .loc[row_indexer,col_indexer] = value instead\n",
            "\n",
            "See the caveats in the documentation: https://pandas.pydata.org/pandas-docs/stable/user_guide/indexing.html#returning-a-view-versus-a-copy\n",
            "  pok_legend['Multiply_charac'] = pok_legend['HP'] * pok_legend['Attack'] * pok_legend['Defense']   # произведение характеристик\n"
          ]
        },
        {
          "output_type": "execute_result",
          "data": {
            "text/plain": [
              "     pid           Name   Class 1   Class 2   HP  Attack  Defense  Sp. Atk  \\\n",
              "156  157       Articuno       Ice    Flying   90      85      100       95   \n",
              "157  158         Zapdos  Electric    Flying   90      90       85      125   \n",
              "158  159        Moltres      Fire    Flying   90     100       90      125   \n",
              "162  163         Mewtwo   Psychic       NaN  106     110       90      154   \n",
              "163  164  Mega Mewtwo X   Psychic  Fighting  106     190      100      154   \n",
              "\n",
              "     Sp. Def  Speed  Legendary  Sum_charac  Multiply_charac  \n",
              "156      125     85       True         275           765000  \n",
              "157       90    100       True         265           688500  \n",
              "158       85     90       True         280           810000  \n",
              "162       90    130       True         306          1049400  \n",
              "163      100    130       True         396          2014000  "
            ],
            "text/html": [
              "\n",
              "  <div id=\"df-5b11c377-e15e-4153-aae0-08a27fb8ee56\">\n",
              "    <div class=\"colab-df-container\">\n",
              "      <div>\n",
              "<style scoped>\n",
              "    .dataframe tbody tr th:only-of-type {\n",
              "        vertical-align: middle;\n",
              "    }\n",
              "\n",
              "    .dataframe tbody tr th {\n",
              "        vertical-align: top;\n",
              "    }\n",
              "\n",
              "    .dataframe thead th {\n",
              "        text-align: right;\n",
              "    }\n",
              "</style>\n",
              "<table border=\"1\" class=\"dataframe\">\n",
              "  <thead>\n",
              "    <tr style=\"text-align: right;\">\n",
              "      <th></th>\n",
              "      <th>pid</th>\n",
              "      <th>Name</th>\n",
              "      <th>Class 1</th>\n",
              "      <th>Class 2</th>\n",
              "      <th>HP</th>\n",
              "      <th>Attack</th>\n",
              "      <th>Defense</th>\n",
              "      <th>Sp. Atk</th>\n",
              "      <th>Sp. Def</th>\n",
              "      <th>Speed</th>\n",
              "      <th>Legendary</th>\n",
              "      <th>Sum_charac</th>\n",
              "      <th>Multiply_charac</th>\n",
              "    </tr>\n",
              "  </thead>\n",
              "  <tbody>\n",
              "    <tr>\n",
              "      <th>156</th>\n",
              "      <td>157</td>\n",
              "      <td>Articuno</td>\n",
              "      <td>Ice</td>\n",
              "      <td>Flying</td>\n",
              "      <td>90</td>\n",
              "      <td>85</td>\n",
              "      <td>100</td>\n",
              "      <td>95</td>\n",
              "      <td>125</td>\n",
              "      <td>85</td>\n",
              "      <td>True</td>\n",
              "      <td>275</td>\n",
              "      <td>765000</td>\n",
              "    </tr>\n",
              "    <tr>\n",
              "      <th>157</th>\n",
              "      <td>158</td>\n",
              "      <td>Zapdos</td>\n",
              "      <td>Electric</td>\n",
              "      <td>Flying</td>\n",
              "      <td>90</td>\n",
              "      <td>90</td>\n",
              "      <td>85</td>\n",
              "      <td>125</td>\n",
              "      <td>90</td>\n",
              "      <td>100</td>\n",
              "      <td>True</td>\n",
              "      <td>265</td>\n",
              "      <td>688500</td>\n",
              "    </tr>\n",
              "    <tr>\n",
              "      <th>158</th>\n",
              "      <td>159</td>\n",
              "      <td>Moltres</td>\n",
              "      <td>Fire</td>\n",
              "      <td>Flying</td>\n",
              "      <td>90</td>\n",
              "      <td>100</td>\n",
              "      <td>90</td>\n",
              "      <td>125</td>\n",
              "      <td>85</td>\n",
              "      <td>90</td>\n",
              "      <td>True</td>\n",
              "      <td>280</td>\n",
              "      <td>810000</td>\n",
              "    </tr>\n",
              "    <tr>\n",
              "      <th>162</th>\n",
              "      <td>163</td>\n",
              "      <td>Mewtwo</td>\n",
              "      <td>Psychic</td>\n",
              "      <td>NaN</td>\n",
              "      <td>106</td>\n",
              "      <td>110</td>\n",
              "      <td>90</td>\n",
              "      <td>154</td>\n",
              "      <td>90</td>\n",
              "      <td>130</td>\n",
              "      <td>True</td>\n",
              "      <td>306</td>\n",
              "      <td>1049400</td>\n",
              "    </tr>\n",
              "    <tr>\n",
              "      <th>163</th>\n",
              "      <td>164</td>\n",
              "      <td>Mega Mewtwo X</td>\n",
              "      <td>Psychic</td>\n",
              "      <td>Fighting</td>\n",
              "      <td>106</td>\n",
              "      <td>190</td>\n",
              "      <td>100</td>\n",
              "      <td>154</td>\n",
              "      <td>100</td>\n",
              "      <td>130</td>\n",
              "      <td>True</td>\n",
              "      <td>396</td>\n",
              "      <td>2014000</td>\n",
              "    </tr>\n",
              "  </tbody>\n",
              "</table>\n",
              "</div>\n",
              "      <button class=\"colab-df-convert\" onclick=\"convertToInteractive('df-5b11c377-e15e-4153-aae0-08a27fb8ee56')\"\n",
              "              title=\"Convert this dataframe to an interactive table.\"\n",
              "              style=\"display:none;\">\n",
              "        \n",
              "  <svg xmlns=\"http://www.w3.org/2000/svg\" height=\"24px\"viewBox=\"0 0 24 24\"\n",
              "       width=\"24px\">\n",
              "    <path d=\"M0 0h24v24H0V0z\" fill=\"none\"/>\n",
              "    <path d=\"M18.56 5.44l.94 2.06.94-2.06 2.06-.94-2.06-.94-.94-2.06-.94 2.06-2.06.94zm-11 1L8.5 8.5l.94-2.06 2.06-.94-2.06-.94L8.5 2.5l-.94 2.06-2.06.94zm10 10l.94 2.06.94-2.06 2.06-.94-2.06-.94-.94-2.06-.94 2.06-2.06.94z\"/><path d=\"M17.41 7.96l-1.37-1.37c-.4-.4-.92-.59-1.43-.59-.52 0-1.04.2-1.43.59L10.3 9.45l-7.72 7.72c-.78.78-.78 2.05 0 2.83L4 21.41c.39.39.9.59 1.41.59.51 0 1.02-.2 1.41-.59l7.78-7.78 2.81-2.81c.8-.78.8-2.07 0-2.86zM5.41 20L4 18.59l7.72-7.72 1.47 1.35L5.41 20z\"/>\n",
              "  </svg>\n",
              "      </button>\n",
              "      \n",
              "  <style>\n",
              "    .colab-df-container {\n",
              "      display:flex;\n",
              "      flex-wrap:wrap;\n",
              "      gap: 12px;\n",
              "    }\n",
              "\n",
              "    .colab-df-convert {\n",
              "      background-color: #E8F0FE;\n",
              "      border: none;\n",
              "      border-radius: 50%;\n",
              "      cursor: pointer;\n",
              "      display: none;\n",
              "      fill: #1967D2;\n",
              "      height: 32px;\n",
              "      padding: 0 0 0 0;\n",
              "      width: 32px;\n",
              "    }\n",
              "\n",
              "    .colab-df-convert:hover {\n",
              "      background-color: #E2EBFA;\n",
              "      box-shadow: 0px 1px 2px rgba(60, 64, 67, 0.3), 0px 1px 3px 1px rgba(60, 64, 67, 0.15);\n",
              "      fill: #174EA6;\n",
              "    }\n",
              "\n",
              "    [theme=dark] .colab-df-convert {\n",
              "      background-color: #3B4455;\n",
              "      fill: #D2E3FC;\n",
              "    }\n",
              "\n",
              "    [theme=dark] .colab-df-convert:hover {\n",
              "      background-color: #434B5C;\n",
              "      box-shadow: 0px 1px 3px 1px rgba(0, 0, 0, 0.15);\n",
              "      filter: drop-shadow(0px 1px 2px rgba(0, 0, 0, 0.3));\n",
              "      fill: #FFFFFF;\n",
              "    }\n",
              "  </style>\n",
              "\n",
              "      <script>\n",
              "        const buttonEl =\n",
              "          document.querySelector('#df-5b11c377-e15e-4153-aae0-08a27fb8ee56 button.colab-df-convert');\n",
              "        buttonEl.style.display =\n",
              "          google.colab.kernel.accessAllowed ? 'block' : 'none';\n",
              "\n",
              "        async function convertToInteractive(key) {\n",
              "          const element = document.querySelector('#df-5b11c377-e15e-4153-aae0-08a27fb8ee56');\n",
              "          const dataTable =\n",
              "            await google.colab.kernel.invokeFunction('convertToInteractive',\n",
              "                                                     [key], {});\n",
              "          if (!dataTable) return;\n",
              "\n",
              "          const docLinkHtml = 'Like what you see? Visit the ' +\n",
              "            '<a target=\"_blank\" href=https://colab.research.google.com/notebooks/data_table.ipynb>data table notebook</a>'\n",
              "            + ' to learn more about interactive tables.';\n",
              "          element.innerHTML = '';\n",
              "          dataTable['output_type'] = 'display_data';\n",
              "          await google.colab.output.renderOutput(dataTable, element);\n",
              "          const docLink = document.createElement('div');\n",
              "          docLink.innerHTML = docLinkHtml;\n",
              "          element.appendChild(docLink);\n",
              "        }\n",
              "      </script>\n",
              "    </div>\n",
              "  </div>\n",
              "  "
            ]
          },
          "metadata": {},
          "execution_count": 98
        }
      ]
    },
    {
      "cell_type": "code",
      "source": [
        "# сумма и произведение характеристик HP,Attack,Defense для всех покемонов\n",
        "\n",
        "pokemon['Sum_charac'] = pokemon.iloc[:,4:7].sum(axis = 1)\n",
        "pokemon['Multiply_charac'] = pokemon['HP'] * pokemon['Attack'] * pokemon['Defense']"
      ],
      "metadata": {
        "id": "Vpr-esSZvho8"
      },
      "execution_count": null,
      "outputs": []
    },
    {
      "cell_type": "code",
      "source": [
        "# средние значения сумм характеристик\n",
        "\n",
        "print('Среднее значение сумм характеристик всех покемонов: ', pokemon['Sum_charac'].mean())\n",
        "print('Среднее значение сумм характеристик легендарных покемонов: ', pok_legend['Sum_charac'].mean())"
      ],
      "metadata": {
        "colab": {
          "base_uri": "https://localhost:8080/"
        },
        "id": "GCcq-dXaLxDN",
        "outputId": "a9bd45d8-49a1-4de0-accb-c195040e682c"
      },
      "execution_count": null,
      "outputs": [
        {
          "output_type": "stream",
          "name": "stdout",
          "text": [
            "Среднее значение сумм характеристик всех покемонов:  222.1025\n",
            "Среднее значение сумм характеристик легендарных покемонов:  309.0769230769231\n"
          ]
        }
      ]
    },
    {
      "cell_type": "markdown",
      "source": [
        "*Среднее значение сумм характеристик у легендарных покемонов 309.08, что значительно выше значения всех покемонов - 222.10.*\n",
        "\n",
        "Проверим статистическую значимость средних с помощью одновыборочного теста Стьюдента."
      ],
      "metadata": {
        "id": "97GQJ8qCzoK5"
      }
    },
    {
      "cell_type": "markdown",
      "source": [
        "для сумм характеристик"
      ],
      "metadata": {
        "id": "pEDs3Phn9Ops"
      }
    },
    {
      "cell_type": "code",
      "source": [
        "# Н0 - среднее значение выборки(легендарных покемонов) не отличается от среднего всех покемонов,\n",
        "# Н1 - среднее значение выборки(легендарных покемонов) отличается от среднего всех покемонов.\n",
        "\n",
        "\n",
        "stat, p = st.ttest_1samp(a=pok_legend['Sum_charac'], popmean=pokemon['Sum_charac'].mean())\n",
        "print(f\"Статистика = {stat:.3f}, p = {p:.3f}\")\n",
        "\n",
        "if p > 0.05:\n",
        "    print(\"Не отклоняем нулевую гипотезу, среднее значение легендарных покемонов, вероятно, не отличается от среднего всех покемонов\")\n",
        "else:\n",
        "    print(\"Отклоняем нулевую гипотезу, среднее значение легендарных покемонов, вероятно, отличается от среднего всех покемонов\")"
      ],
      "metadata": {
        "colab": {
          "base_uri": "https://localhost:8080/"
        },
        "id": "UxPn0nUuMisq",
        "outputId": "0c540356-cadb-48ec-faf3-99c9bd0e710a"
      },
      "execution_count": null,
      "outputs": [
        {
          "output_type": "stream",
          "name": "stdout",
          "text": [
            "Статистика = 15.103, p = 0.000\n",
            "Отклоняем нулевую гипотезу, среднее значение легендарных покемонов, вероятно, отличается от среднего всех покемонов\n"
          ]
        }
      ]
    },
    {
      "cell_type": "code",
      "source": [
        "plt.hist(pokemon['Sum_charac'], bins=15);\n",
        "plt.hist(pok_legend['Sum_charac'], bins=15);"
      ],
      "metadata": {
        "colab": {
          "base_uri": "https://localhost:8080/",
          "height": 265
        },
        "id": "vbNXgB6zNDnm",
        "outputId": "3cb2b00c-2d75-4428-da7c-0232151fa42a"
      },
      "execution_count": null,
      "outputs": [
        {
          "output_type": "display_data",
          "data": {
            "text/plain": [
              "<Figure size 432x288 with 1 Axes>"
            ],
            "image/png": "[encoded data removed]"
          },
          "metadata": {
            "needs_background": "light"
          }
        }
      ]
    },
    {
      "cell_type": "markdown",
      "source": [
        "для произведений характеристик"
      ],
      "metadata": {
        "id": "cCV8ZuIx9JZL"
      }
    },
    {
      "cell_type": "code",
      "source": [
        "# средние значения произведений характеристик\n",
        "\n",
        "print('Среднее значение произведений характеристик всех покемонов: ', pokemon['Multiply_charac'].mean())\n",
        "print('Среднее значение произведений характеристик легендарных покемонов: ', pok_legend['Multiply_charac'].mean())"
      ],
      "metadata": {
        "colab": {
          "base_uri": "https://localhost:8080/"
        },
        "id": "mOhgYUxoNwcE",
        "outputId": "1bfa9463-36b5-4a20-bb75-365c2ceae6de"
      },
      "execution_count": null,
      "outputs": [
        {
          "output_type": "stream",
          "name": "stdout",
          "text": [
            "Среднее значение произведений характеристик всех покемонов:  478739.5325\n",
            "Среднее значение произведений характеристик легендарных покемонов:  1085941.6153846155\n"
          ]
        }
      ]
    },
    {
      "cell_type": "code",
      "source": [
        "# Н0 - среднее значение выборки(легендарных покемонов) не отличается от среднего всех покемонов,\n",
        "# Н1 - среднее значение выборки(легендарных покемонов) отличается от среднего всех покемонов.\n",
        "\n",
        "stat, p = st.ttest_1samp(a=pok_legend['Multiply_charac'], popmean=pokemon['Multiply_charac'].mean())\n",
        "print(f\"Статистика = {stat:.3f}, p = {p:.3f}\")\n",
        "\n",
        "if p > 0.05:\n",
        "    print(\"Не отклоняем нулевую гипотезу, среднее значение легендарных покемонов, вероятно, не отличается от среднего всех покемонов\")\n",
        "else:\n",
        "    print(\"Отклоняем нулевую гипотезу, среднее значение легендарных покемонов, вероятно, отличается от среднего всех покемонов\")"
      ],
      "metadata": {
        "colab": {
          "base_uri": "https://localhost:8080/"
        },
        "id": "3E4ZVN7oOTC7",
        "outputId": "87b4aa74-c12c-484d-b6ba-fad4a835eeae"
      },
      "execution_count": null,
      "outputs": [
        {
          "output_type": "stream",
          "name": "stdout",
          "text": [
            "Статистика = 9.469, p = 0.000\n",
            "Отклоняем нулевую гипотезу, среднее значение легендарных покемонов, вероятно, отличается от среднего всех покемонов\n"
          ]
        }
      ]
    },
    {
      "cell_type": "code",
      "source": [
        "plt.hist(pokemon['Multiply_charac'], bins=15);\n",
        "plt.hist(pok_legend['Multiply_charac'], bins=15);"
      ],
      "metadata": {
        "colab": {
          "base_uri": "https://localhost:8080/",
          "height": 278
        },
        "id": "BG5EBYypOkGi",
        "outputId": "4b2df5ad-a5b0-45eb-cb0c-8dad230b2cd6"
      },
      "execution_count": null,
      "outputs": [
        {
          "output_type": "display_data",
          "data": {
            "text/plain": [
              "<Figure size 432x288 with 1 Axes>"
            ],
            "image/png": "[encoded data removed]"
          },
          "metadata": {
            "needs_background": "light"
          }
        }
      ]
    },
    {
      "cell_type": "markdown",
      "source": [
        "**Вывод.**\n",
        "\n",
        "Среднее значение сумм и произведений характеристик HP,Attack,Defense у легендарных покемонов статистически отличается от значений всех покемонов. Действительно, легендарные покемоны самые лучшие в сравнении с другими покемонами.\n",
        "\n",
        "---\n",
        "\n"
      ],
      "metadata": {
        "id": "HhrljAtm0WeM"
      }
    },
    {
      "cell_type": "markdown",
      "source": [
        "<div class=\"alert alert-info\">\n",
        "<b>Задание № 5:</b>\n",
        "    \n",
        "Профессор Оук частенько наблюдает за боями покемонов. После очередных таких боев Оук выделил три класса `best_defence_class`, которые на его взгляд одинаковы по \"силе обычной защиты\" `Defense`. Проверьте, действительно ли эти классы покемонов не отличаются по уровню защиты статистически значимо? Все та же статистика вам в помощь!\n",
        "   \n",
        "\n",
        "Вы можете предположить, что распределение сум и произведений этих параметров является нормальным для всех классов покемонов.\n",
        "\n",
        "</div>"
      ],
      "metadata": {
        "id": "4z9IdPbOYFlr"
      }
    },
    {
      "cell_type": "code",
      "source": [
        "best_defence_class = ['Rock', 'Ground', 'Steel', 'Ice']\n",
        "best_defence_class"
      ],
      "metadata": {
        "colab": {
          "base_uri": "https://localhost:8080/"
        },
        "id": "tuor-K-wYIoS",
        "outputId": "1904b4c3-2dc5-42b2-cb96-ce4593920efc"
      },
      "execution_count": null,
      "outputs": [
        {
          "output_type": "execute_result",
          "data": {
            "text/plain": [
              "['Rock', 'Ground', 'Steel', 'Ice']"
            ]
          },
          "metadata": {},
          "execution_count": 107
        }
      ]
    },
    {
      "cell_type": "code",
      "source": [
        "# отдельные датафреймы для покемонов класса 'Rock', 'Ground', 'Steel', 'Ice'\n",
        "\n",
        "df_Rock = pokemon[(pokemon['Class 1']== 'Rock') | (pokemon['Class 2']== 'Rock')]\n",
        "print(len(df_Rock))\n",
        "df_Ground = pokemon[(pokemon['Class 1']== 'Ground') | (pokemon['Class 2']== 'Ground')]\n",
        "print(len(df_Ground))\n",
        "df_Steel = pokemon[(pokemon['Class 1']== 'Steel') | (pokemon['Class 2']== 'Steel')]\n",
        "print(len(df_Steel))\n",
        "df_Ice = pokemon[(pokemon['Class 1']== 'Ice') | (pokemon['Class 2']== 'Ice')]\n",
        "print(len(df_Ice))"
      ],
      "metadata": {
        "colab": {
          "base_uri": "https://localhost:8080/"
        },
        "id": "y6p6EfmOSh1h",
        "outputId": "a9a223bf-8b51-4221-995b-95756582bfa5"
      },
      "execution_count": null,
      "outputs": [
        {
          "output_type": "stream",
          "name": "stdout",
          "text": [
            "58\n",
            "67\n",
            "49\n",
            "38\n"
          ]
        }
      ]
    },
    {
      "cell_type": "code",
      "source": [
        "# С помощью дисперсионого анализа проверим отличается или не отличаеся сила обычной атаки\n",
        "# Н0 - отличий между выборками нет, средние значения одинаковы,\n",
        "# Н1 - отличия между выборками есть, одна или более выборка отличается от других\n",
        "\n",
        "fvalue, pvalue = stats.f_oneway(df_Rock['Defense'], df_Ground['Defense'], df_Steel['Defense'], df_Ice['Defense'])\n",
        "\n",
        "print('Статистика=%.3f, p=%.6f' % (fvalue, pvalue))\n",
        "if p > 0.05:\n",
        "    print('Не отклоняем нулевую гипотезу, средние, вероятно, одинаковые')\n",
        "else:\n",
        "    print('Отклоняем нулевую гипотезу, средние, вероятно, различаются')"
      ],
      "metadata": {
        "colab": {
          "base_uri": "https://localhost:8080/"
        },
        "id": "uT3iJfLiWBb6",
        "outputId": "52192f47-aa0f-46e9-d8b9-1caf46674a81"
      },
      "execution_count": null,
      "outputs": [
        {
          "output_type": "stream",
          "name": "stdout",
          "text": [
            "Статистика=10.820, p=0.000001\n",
            "Отклоняем нулевую гипотезу, средние, вероятно, различаются\n"
          ]
        }
      ]
    },
    {
      "cell_type": "markdown",
      "source": [
        "*Сила обычной атаки между покемонами класса 'Rock', 'Ground', 'Steel', 'Ice' с вероятностью 95 % отличается.*\n",
        "\n",
        "Между какими классами есть различия, проверим с помощью теста Тьюки"
      ],
      "metadata": {
        "id": "8Y-pfq_n3EB_"
      }
    },
    {
      "cell_type": "code",
      "source": [
        "# преобразуем данные для дальнейшей работы\n",
        "\n",
        "Rock = pd.melt(pd.DataFrame(list(df_Rock['Defense']), columns = ['Rock']))\n",
        "Ground = pd.melt(pd.DataFrame(list(df_Ground['Defense']), columns = ['Ground']))\n",
        "Steel = pd.melt(pd.DataFrame(list(df_Steel['Defense']), columns = ['Steel']))\n",
        "Ice = pd.melt(pd.DataFrame(list(df_Ice['Defense']), columns = ['Ice']))"
      ],
      "metadata": {
        "id": "vYtJ9SpibGuw"
      },
      "execution_count": null,
      "outputs": []
    },
    {
      "cell_type": "code",
      "source": [
        "df_concat = pd.concat([Rock,Ground,Steel,Ice])\n",
        "df_concat.columns = ['Class', 'Defense']\n",
        "df_concat"
      ],
      "metadata": {
        "colab": {
          "base_uri": "https://localhost:8080/",
          "height": 423
        },
        "id": "7r1e-v02cgD2",
        "outputId": "ff3e27b8-a1da-47f8-9ef9-1d6e9baba85e"
      },
      "execution_count": null,
      "outputs": [
        {
          "output_type": "execute_result",
          "data": {
            "text/plain": [
              "   Class  Defense\n",
              "0   Rock      100\n",
              "1   Rock      115\n",
              "2   Rock      130\n",
              "3   Rock      160\n",
              "4   Rock       95\n",
              "..   ...      ...\n",
              "33   Ice       90\n",
              "34   Ice       50\n",
              "35   Ice       72\n",
              "36   Ice       85\n",
              "37   Ice      184\n",
              "\n",
              "[212 rows x 2 columns]"
            ],
            "text/html": [
              "\n",
              "  <div id=\"df-6a3c73fb-0fa6-404e-b9d1-a4b4aa22cc90\">\n",
              "    <div class=\"colab-df-container\">\n",
              "      <div>\n",
              "<style scoped>\n",
              "    .dataframe tbody tr th:only-of-type {\n",
              "        vertical-align: middle;\n",
              "    }\n",
              "\n",
              "    .dataframe tbody tr th {\n",
              "        vertical-align: top;\n",
              "    }\n",
              "\n",
              "    .dataframe thead th {\n",
              "        text-align: right;\n",
              "    }\n",
              "</style>\n",
              "<table border=\"1\" class=\"dataframe\">\n",
              "  <thead>\n",
              "    <tr style=\"text-align: right;\">\n",
              "      <th></th>\n",
              "      <th>Class</th>\n",
              "      <th>Defense</th>\n",
              "    </tr>\n",
              "  </thead>\n",
              "  <tbody>\n",
              "    <tr>\n",
              "      <th>0</th>\n",
              "      <td>Rock</td>\n",
              "      <td>100</td>\n",
              "    </tr>\n",
              "    <tr>\n",
              "      <th>1</th>\n",
              "      <td>Rock</td>\n",
              "      <td>115</td>\n",
              "    </tr>\n",
              "    <tr>\n",
              "      <th>2</th>\n",
              "      <td>Rock</td>\n",
              "      <td>130</td>\n",
              "    </tr>\n",
              "    <tr>\n",
              "      <th>3</th>\n",
              "      <td>Rock</td>\n",
              "      <td>160</td>\n",
              "    </tr>\n",
              "    <tr>\n",
              "      <th>4</th>\n",
              "      <td>Rock</td>\n",
              "      <td>95</td>\n",
              "    </tr>\n",
              "    <tr>\n",
              "      <th>...</th>\n",
              "      <td>...</td>\n",
              "      <td>...</td>\n",
              "    </tr>\n",
              "    <tr>\n",
              "      <th>33</th>\n",
              "      <td>Ice</td>\n",
              "      <td>90</td>\n",
              "    </tr>\n",
              "    <tr>\n",
              "      <th>34</th>\n",
              "      <td>Ice</td>\n",
              "      <td>50</td>\n",
              "    </tr>\n",
              "    <tr>\n",
              "      <th>35</th>\n",
              "      <td>Ice</td>\n",
              "      <td>72</td>\n",
              "    </tr>\n",
              "    <tr>\n",
              "      <th>36</th>\n",
              "      <td>Ice</td>\n",
              "      <td>85</td>\n",
              "    </tr>\n",
              "    <tr>\n",
              "      <th>37</th>\n",
              "      <td>Ice</td>\n",
              "      <td>184</td>\n",
              "    </tr>\n",
              "  </tbody>\n",
              "</table>\n",
              "<p>212 rows × 2 columns</p>\n",
              "</div>\n",
              "      <button class=\"colab-df-convert\" onclick=\"convertToInteractive('df-6a3c73fb-0fa6-404e-b9d1-a4b4aa22cc90')\"\n",
              "              title=\"Convert this dataframe to an interactive table.\"\n",
              "              style=\"display:none;\">\n",
              "        \n",
              "  <svg xmlns=\"http://www.w3.org/2000/svg\" height=\"24px\"viewBox=\"0 0 24 24\"\n",
              "       width=\"24px\">\n",
              "    <path d=\"M0 0h24v24H0V0z\" fill=\"none\"/>\n",
              "    <path d=\"M18.56 5.44l.94 2.06.94-2.06 2.06-.94-2.06-.94-.94-2.06-.94 2.06-2.06.94zm-11 1L8.5 8.5l.94-2.06 2.06-.94-2.06-.94L8.5 2.5l-.94 2.06-2.06.94zm10 10l.94 2.06.94-2.06 2.06-.94-2.06-.94-.94-2.06-.94 2.06-2.06.94z\"/><path d=\"M17.41 7.96l-1.37-1.37c-.4-.4-.92-.59-1.43-.59-.52 0-1.04.2-1.43.59L10.3 9.45l-7.72 7.72c-.78.78-.78 2.05 0 2.83L4 21.41c.39.39.9.59 1.41.59.51 0 1.02-.2 1.41-.59l7.78-7.78 2.81-2.81c.8-.78.8-2.07 0-2.86zM5.41 20L4 18.59l7.72-7.72 1.47 1.35L5.41 20z\"/>\n",
              "  </svg>\n",
              "      </button>\n",
              "      \n",
              "  <style>\n",
              "    .colab-df-container {\n",
              "      display:flex;\n",
              "      flex-wrap:wrap;\n",
              "      gap: 12px;\n",
              "    }\n",
              "\n",
              "    .colab-df-convert {\n",
              "      background-color: #E8F0FE;\n",
              "      border: none;\n",
              "      border-radius: 50%;\n",
              "      cursor: pointer;\n",
              "      display: none;\n",
              "      fill: #1967D2;\n",
              "      height: 32px;\n",
              "      padding: 0 0 0 0;\n",
              "      width: 32px;\n",
              "    }\n",
              "\n",
              "    .colab-df-convert:hover {\n",
              "      background-color: #E2EBFA;\n",
              "      box-shadow: 0px 1px 2px rgba(60, 64, 67, 0.3), 0px 1px 3px 1px rgba(60, 64, 67, 0.15);\n",
              "      fill: #174EA6;\n",
              "    }\n",
              "\n",
              "    [theme=dark] .colab-df-convert {\n",
              "      background-color: #3B4455;\n",
              "      fill: #D2E3FC;\n",
              "    }\n",
              "\n",
              "    [theme=dark] .colab-df-convert:hover {\n",
              "      background-color: #434B5C;\n",
              "      box-shadow: 0px 1px 3px 1px rgba(0, 0, 0, 0.15);\n",
              "      filter: drop-shadow(0px 1px 2px rgba(0, 0, 0, 0.3));\n",
              "      fill: #FFFFFF;\n",
              "    }\n",
              "  </style>\n",
              "\n",
              "      <script>\n",
              "        const buttonEl =\n",
              "          document.querySelector('#df-6a3c73fb-0fa6-404e-b9d1-a4b4aa22cc90 button.colab-df-convert');\n",
              "        buttonEl.style.display =\n",
              "          google.colab.kernel.accessAllowed ? 'block' : 'none';\n",
              "\n",
              "        async function convertToInteractive(key) {\n",
              "          const element = document.querySelector('#df-6a3c73fb-0fa6-404e-b9d1-a4b4aa22cc90');\n",
              "          const dataTable =\n",
              "            await google.colab.kernel.invokeFunction('convertToInteractive',\n",
              "                                                     [key], {});\n",
              "          if (!dataTable) return;\n",
              "\n",
              "          const docLinkHtml = 'Like what you see? Visit the ' +\n",
              "            '<a target=\"_blank\" href=https://colab.research.google.com/notebooks/data_table.ipynb>data table notebook</a>'\n",
              "            + ' to learn more about interactive tables.';\n",
              "          element.innerHTML = '';\n",
              "          dataTable['output_type'] = 'display_data';\n",
              "          await google.colab.output.renderOutput(dataTable, element);\n",
              "          const docLink = document.createElement('div');\n",
              "          docLink.innerHTML = docLinkHtml;\n",
              "          element.appendChild(docLink);\n",
              "        }\n",
              "      </script>\n",
              "    </div>\n",
              "  </div>\n",
              "  "
            ]
          },
          "metadata": {},
          "execution_count": 111
        }
      ]
    },
    {
      "cell_type": "code",
      "source": [
        "# найдем классы, которые статистически отличаются друг от друга\n",
        "\n",
        "tukey_pokemon = pairwise_tukeyhsd(endog=df_concat['Defense'],\n",
        "                          groups=df_concat['Class'],\n",
        "                          alpha=0.05)\n",
        "print(tukey_pokemon)"
      ],
      "metadata": {
        "colab": {
          "base_uri": "https://localhost:8080/"
        },
        "id": "HApbR2VAdWH5",
        "outputId": "ecf7e5ff-65f6-4c9b-b5d6-fe77be84c4e2"
      },
      "execution_count": null,
      "outputs": [
        {
          "output_type": "stream",
          "name": "stdout",
          "text": [
            " Multiple Comparison of Means - Tukey HSD, FWER=0.05 \n",
            "=====================================================\n",
            "group1 group2 meandiff p-adj   lower    upper  reject\n",
            "-----------------------------------------------------\n",
            "Ground    Ice -11.0436 0.4755 -30.8783  8.7911  False\n",
            "Ground   Rock  19.3847 0.0235   1.8675 36.9019   True\n",
            "Ground  Steel  28.9108  0.001  10.5515   47.27   True\n",
            "   Ice   Rock  30.4283  0.001  10.0443 50.8124   True\n",
            "   Ice  Steel  39.9544  0.001  18.8423 61.0664   True\n",
            "  Rock  Steel    9.526 0.5555  -9.4253 28.4774  False\n",
            "-----------------------------------------------------\n"
          ]
        }
      ]
    },
    {
      "cell_type": "code",
      "source": [
        "ax = sns.boxplot(x='Class', y='Defense', data=df_concat, color='#99c2a2')"
      ],
      "metadata": {
        "colab": {
          "base_uri": "https://localhost:8080/",
          "height": 282
        },
        "id": "pLkuetvgeBTY",
        "outputId": "f4aad401-45c0-4cd5-819e-cf03a4939c0a"
      },
      "execution_count": null,
      "outputs": [
        {
          "output_type": "display_data",
          "data": {
            "text/plain": [
              "<Figure size 432x288 with 1 Axes>"
            ],
            "image/png": "[encoded data removed]"
          },
          "metadata": {
            "needs_background": "light"
          }
        }
      ]
    },
    {
      "cell_type": "code",
      "source": [
        "tukey_pokemon.plot_simultaneous(comparison_name=\"Ground\");\n",
        "tukey_pokemon.plot_simultaneous(comparison_name=\"Rock\");"
      ],
      "metadata": {
        "colab": {
          "base_uri": "https://localhost:8080/",
          "height": 765
        },
        "id": "ImtNisORe5az",
        "outputId": "62f8c314-3d7b-48e8-81f3-d0eddbd18c88"
      },
      "execution_count": null,
      "outputs": [
        {
          "output_type": "display_data",
          "data": {
            "text/plain": [
              "<Figure size 720x432 with 1 Axes>"
            ],
            "image/png": "[encoded data removed]"
          },
          "metadata": {
            "needs_background": "light"
          }
        },
        {
          "output_type": "display_data",
          "data": {
            "text/plain": [
              "<Figure size 720x432 with 1 Axes>"
            ],
            "image/png": "[encoded data removed]"
          },
          "metadata": {
            "needs_background": "light"
          }
        }
      ]
    },
    {
      "cell_type": "markdown",
      "source": [
        "**Вывод.**\n",
        "\n",
        "Предположение профессора Оук, что покемоны классов Rock, Ground, Steel, Ice одинаковы по \"силе обычной защиты\" Defense, можно отклонить.\n",
        "\n",
        "Дисперсионный анализ отклонил гипотезу, что выборки не отличаются.\n",
        "Тест Тьюки показал, что:\n",
        "- сила обычной атаки покемонов между классами Ground и Ice, Rock и Steel статистически не отличается;\n",
        "- сила обычной атаки покемонов класса Ground отличается от классов  Rock и Steel, а класс Ice отличается силой атаки от классов Rock и Steel.\n",
        "\n",
        "Можно сказать, что с вероятностью 95 % сила атаки классов Ground и Ice отличается от классов Rock и Steel.\n"
      ],
      "metadata": {
        "id": "74PSTyW24QgZ"
      }
    }
  ]
}